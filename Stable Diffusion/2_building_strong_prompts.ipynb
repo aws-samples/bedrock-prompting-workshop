{
 "cells": [
  {
   "cell_type": "markdown",
   "id": "a60abc38-e319-45a4-894b-b4129a24b1e6",
   "metadata": {
    "tags": []
   },
   "source": [
    "# Chapter 2: Building Strong Prompts\n",
    "\n",
    "---\n",
    "\n",
    "**Lesson:**\n",
    "\n",
    "As we have seen, more details in your prompt often add greater complexity and quality to the generated image. This is not to say more is *always* better. However, in general with Stable Diffusion, being as concise as possible with your prompt will lead to outputs more closely resembling the images you require."
   ]
  },
  {
   "cell_type": "code",
   "execution_count": null,
   "id": "2f6bd69b-09b7-45a7-8020-68b7a318fdf6",
   "metadata": {
    "tags": []
   },
   "outputs": [],
   "source": [
    "%%capture\n",
    "# Install dependencies\n",
    "%pip install --no-build-isolation --force-reinstall \\\n",
    "    \"boto3>=1.28.57\" \\\n",
    "    \"awscli>=1.29.57\" \\\n",
    "    \"botocore>=1.31.57\"\n",
    "\n",
    "%pip install --quiet \"pillow>=9.5,<10\"\n",
    "\n",
    "# Python Built-Ins:\n",
    "import base64\n",
    "import io\n",
    "import json\n",
    "import os\n",
    "import sys\n",
    "\n",
    "# External Dependencies:\n",
    "import boto3\n",
    "from PIL import Image\n",
    "\n",
    "module_path = \"..\"\n",
    "sys.path.append(os.path.abspath(module_path))\n",
    "from utils import bedrock, print_ww\n",
    "\n",
    "\n",
    "# ---- ⚠️ Un-comment and edit the below lines as needed for your AWS setup ⚠️ ----\n",
    "\n",
    "# os.environ[\"AWS_DEFAULT_REGION\"] = \"<REGION_NAME>\"  # E.g. \"us-east-1\"\n",
    "# os.environ[\"AWS_PROFILE\"] = \"<YOUR_PROFILE>\"\n",
    "# os.environ[\"BEDROCK_ASSUME_ROLE\"] = \"<YOUR_ROLE_ARN>\"  # E.g. \"arn:aws:...\"\n",
    "\n",
    "boto3_bedrock = bedrock.get_bedrock_client(\n",
    "    assumed_role=os.environ.get(\"BEDROCK_ASSUME_ROLE\", None),\n",
    "    region=os.environ.get(\"AWS_DEFAULT_REGION\", None)\n",
    ")\n",
    "\n",
    "modelId = \"stability.stable-diffusion-xl\""
   ]
  },
  {
   "cell_type": "markdown",
   "id": "73dd3acb-1b85-496f-9791-d3f587d1cb2e",
   "metadata": {},
   "source": [
    "## Main components of a strong prompt\n",
    "\n",
    "In the end, what is most important to keep in mind is that Stable Diffusion prompts require a comma-separated list of descriptions. It is up to you to decide what those descriptions are and which matter the most. That being said, below is a common template of categories to keep in mind when crafting your prompt:\n",
    "\n",
    " - Subject\n",
    " - Setting\n",
    " - Overall characteristics (i.e., lighting, style, color, quality)\n",
    " \n",
    " Let's dig into each of these categories in the below examples, building upon our image with each step.\n"
   ]
  },
  {
   "cell_type": "markdown",
   "id": "ceaf3185-3a26-4446-a63b-657475e955c9",
   "metadata": {},
   "source": [
    "## Examples:\n",
    "\n",
    "**Example 2.1 - Subject**\n",
    "\n",
    "The subject is the focus of the image. It can be a person, animal, landscape, inanimate object - anything / anywhere your mind can take you.\n",
    "\n",
    "At the basics, we could simply input the following:"
   ]
  },
  {
   "cell_type": "code",
   "execution_count": null,
   "id": "d71dae40-fb2c-4fc6-a027-c90d6678a689",
   "metadata": {
    "tags": []
   },
   "outputs": [],
   "source": [
    "prompt = \"a human\""
   ]
  },
  {
   "cell_type": "markdown",
   "id": "54b6d03e-3f6f-441b-82aa-88bd41f85ee2",
   "metadata": {},
   "source": [
    "Stable Diffusion builds upon its vast corpus of human / human-related images to generate its own image. However, what we will see is this image can take many forms without any further descriptive elements in the prompt, paricularly if the cfg_scale is set low and the seed to its default."
   ]
  },
  {
   "cell_type": "code",
   "execution_count": null,
   "id": "60c009a6-a032-4234-b077-f2d2658087e4",
   "metadata": {
    "tags": []
   },
   "outputs": [],
   "source": [
    "request = json.dumps({\n",
    "    \"text_prompts\": (\n",
    "        [{\"text\": prompt}]\n",
    "    )\n",
    "})\n",
    "\n",
    "response = boto3_bedrock.invoke_model(body=request, modelId=modelId)\n",
    "response_body = json.loads(response.get(\"body\").read())\n",
    "\n",
    "print(response_body[\"result\"])\n",
    "base_64_img_str = response_body[\"artifacts\"][0].get(\"base64\")\n",
    "print(f\"{base_64_img_str[0:80]}...\")\n",
    "\n",
    "os.makedirs(\"data\", exist_ok=True)\n",
    "eg2_1a = Image.open(io.BytesIO(base64.decodebytes(bytes(base_64_img_str, \"utf-8\"))))\n",
    "eg2_1a.save(\"data/eg2_1a.png\")\n",
    "eg2_1a"
   ]
  },
  {
   "cell_type": "markdown",
   "id": "6c370c1a-f316-44ba-8d6c-ac10be6472fd",
   "metadata": {},
   "source": [
    "What we can do to better control the output of our image is add keywords to describe our subject more specifically. Who is this human? What are they doing? What do they look like? What are some small nuances in their clothing, hair color, eyes, or posture? There is a world of possibly in what our subject could look like, and we have to dictate this clearly to Stable Diffusion.\n",
    "\n",
    "Let's continue by adding some more flavor to our subject. Feel free to uncomment and experiment further with the parameters."
   ]
  },
  {
   "cell_type": "code",
   "execution_count": null,
   "id": "a7659e71-7852-4d63-8144-dfdbc7ba5ca1",
   "metadata": {
    "tags": []
   },
   "outputs": [],
   "source": [
    "prompt = \"a human coder, wearing a tuxedo, typing furiously, determined look on the face\"\n",
    "\n",
    "# cfg_scale = 10\n",
    "# seed = 12345\n",
    "# steps = 40\n",
    "# style_preset = \"photographic\"  # (e.g. photographic, digital-art, cinematic, ...)\n",
    "# clip_guidance_preset = \"FAST_GREEN\" # (e.g. FAST_BLUE FAST_GREEN NONE SIMPLE SLOW SLOWER SLOWEST)\n",
    "# sampler = \"K_DPMPP_2S_ANCESTRAL\" # (e.g. DDIM, DDPM, K_DPMPP_SDE, K_DPMPP_2M, K_DPMPP_2S_ANCESTRAL, K_DPM_2, K_DPM_2_ANCESTRAL, K_EULER, K_EULER_ANCESTRAL, K_HEUN, K_LMS)\n",
    "# width = 768"
   ]
  },
  {
   "cell_type": "code",
   "execution_count": null,
   "id": "f57a1d0d-30e9-403c-9b9b-2398ba205b08",
   "metadata": {},
   "outputs": [],
   "source": [
    "request = json.dumps({\n",
    "    \"text_prompts\": (\n",
    "        [{\"text\": prompt}]\n",
    "    ),\n",
    "#    \"cfg_scale\": cfg_scale,\n",
    "#    \"seed\": seed,\n",
    "#    \"steps\": steps,\n",
    "#    \"style_preset\": style_preset,\n",
    "#    \"clip_guidance_preset\": clip_guidance_preset,\n",
    "#    \"sampler\": sampler,\n",
    "#    \"width\": width\n",
    "})\n",
    "\n",
    "response = boto3_bedrock.invoke_model(body=request, modelId=modelId)\n",
    "response_body = json.loads(response.get(\"body\").read())\n",
    "\n",
    "print(response_body[\"result\"])\n",
    "base_64_img_str = response_body[\"artifacts\"][0].get(\"base64\")\n",
    "print(f\"{base_64_img_str[0:80]}...\")\n",
    "\n",
    "os.makedirs(\"data\", exist_ok=True)\n",
    "eg2_1b = Image.open(io.BytesIO(base64.decodebytes(bytes(base_64_img_str, \"utf-8\"))))\n",
    "eg2_1b.save(\"data/eg2_1b.png\")\n",
    "eg2_1b"
   ]
  },
  {
   "cell_type": "markdown",
   "id": "5cef261a-832b-4a79-b4cb-0c4508d802c3",
   "metadata": {},
   "source": [
    "**Example 2.2 - Setting**\n",
    "\n",
    "Similar to the subject is the setting. The setting is the surrounding environment of the subject, which may include where and when the subject finds itself (such as a quiet village in the mountains during the American Revolution or a monk soldier dancing in a temple during the Song dynasty)."
   ]
  },
  {
   "cell_type": "code",
   "execution_count": null,
   "id": "9ce6e96f-8ba9-4ba4-ae25-0c101e306c56",
   "metadata": {
    "tags": []
   },
   "outputs": [],
   "source": [
    "prompt = \"a human coder, wearing a tuxedo, typing furiously, determined look on the face, window overlooking a 1950s English town, an ornate and oak room\"\n",
    "\n",
    "# cfg_scale = 10\n",
    "# seed = 12345\n",
    "# steps = 40\n",
    "# style_preset = \"photographic\"  # (e.g. photographic, digital-art, cinematic, ...)\n",
    "# clip_guidance_preset = \"FAST_GREEN\" # (e.g. FAST_BLUE FAST_GREEN NONE SIMPLE SLOW SLOWER SLOWEST)\n",
    "# sampler = \"K_DPMPP_2S_ANCESTRAL\" # (e.g. DDIM, DDPM, K_DPMPP_SDE, K_DPMPP_2M, K_DPMPP_2S_ANCESTRAL, K_DPM_2, K_DPM_2_ANCESTRAL, K_EULER, K_EULER_ANCESTRAL, K_HEUN, K_LMS)\n",
    "# width = 768"
   ]
  },
  {
   "cell_type": "code",
   "execution_count": null,
   "id": "f90a2306-37ad-4431-aa8a-a83fa923e6c2",
   "metadata": {
    "tags": []
   },
   "outputs": [],
   "source": [
    "request = json.dumps({\n",
    "    \"text_prompts\": (\n",
    "        [{\"text\": prompt}]\n",
    "    ),\n",
    "#    \"cfg_scale\": cfg_scale,\n",
    "#    \"seed\": seed,\n",
    "#    \"steps\": steps,\n",
    "#    \"style_preset\": style_preset,\n",
    "#    \"clip_guidance_preset\": clip_guidance_preset,\n",
    "#    \"sampler\": sampler,\n",
    "#    \"width\": width\n",
    "})\n",
    "\n",
    "response = boto3_bedrock.invoke_model(body=request, modelId=modelId)\n",
    "response_body = json.loads(response.get(\"body\").read())\n",
    "\n",
    "print(response_body[\"result\"])\n",
    "base_64_img_str = response_body[\"artifacts\"][0].get(\"base64\")\n",
    "print(f\"{base_64_img_str[0:80]}...\")\n",
    "\n",
    "os.makedirs(\"data\", exist_ok=True)\n",
    "eg2_2 = Image.open(io.BytesIO(base64.decodebytes(bytes(base_64_img_str, \"utf-8\"))))\n",
    "eg2_2.save(\"data/eg2_2.png\")\n",
    "eg2_2"
   ]
  },
  {
   "cell_type": "markdown",
   "id": "ba706ae8-581d-456f-819a-c0252abbdfda",
   "metadata": {},
   "source": [
    "**Example 2.3 - Overall Characteristics**\n",
    "\n",
    "This is where things get interesting. Here, we can take a given image / overall description as we created above, and completely change the style if we so desire. We can do the following:\n",
    "\n",
    " - *style*: paint an image in the manner of Claude Monet\n",
    " - *quality*: take a grainy or super high-resolution photograph\n",
    " - *medium*: sketch a cartoon on a pad of paper or generate a digital image\n",
    " - *color*: draw a vibrant image of a rainbow kaleidoscope\n",
    " - *lighting*: encapsulate a warm family dinner with cinematic lighting\n",
    " \n",
    " \n",
    " Let's implement some of the above characteristics in our prompt."
   ]
  },
  {
   "cell_type": "code",
   "execution_count": null,
   "id": "431e8a2b-2ed9-41f6-8b8b-a4a3aef5a460",
   "metadata": {
    "tags": []
   },
   "outputs": [],
   "source": [
    "prompt = \"a human coder, wearing a tuxedo, typing furiously, determined look on the face, window overlooking a 1950s English town, an ornate and oak room, cinematic lighting, grainy quality\"\n",
    "\n",
    "# cfg_scale = 10\n",
    "# seed = 12345\n",
    "# steps = 40\n",
    "# style_preset = \"photographic\"  # (e.g. photographic, digital-art, cinematic, ...)\n",
    "# clip_guidance_preset = \"FAST_GREEN\" # (e.g. FAST_BLUE FAST_GREEN NONE SIMPLE SLOW SLOWER SLOWEST)\n",
    "# sampler = \"K_DPMPP_2S_ANCESTRAL\" # (e.g. DDIM, DDPM, K_DPMPP_SDE, K_DPMPP_2M, K_DPMPP_2S_ANCESTRAL, K_DPM_2, K_DPM_2_ANCESTRAL, K_EULER, K_EULER_ANCESTRAL, K_HEUN, K_LMS)\n",
    "# width = 768"
   ]
  },
  {
   "cell_type": "code",
   "execution_count": null,
   "id": "4a8ec712-e74b-43a6-a81f-9e4b77239fac",
   "metadata": {
    "tags": []
   },
   "outputs": [],
   "source": [
    "request = json.dumps({\n",
    "    \"text_prompts\": (\n",
    "        [{\"text\": prompt}]\n",
    "    ),\n",
    "#    \"cfg_scale\": cfg_scale,\n",
    "#    \"seed\": seed,\n",
    "#    \"steps\": steps,\n",
    "#    \"style_preset\": style_preset,\n",
    "#    \"clip_guidance_preset\": clip_guidance_preset,\n",
    "#    \"sampler\": sampler,\n",
    "#    \"width\": width\n",
    "})\n",
    "\n",
    "response = boto3_bedrock.invoke_model(body=request, modelId=modelId)\n",
    "response_body = json.loads(response.get(\"body\").read())\n",
    "\n",
    "print(response_body[\"result\"])\n",
    "base_64_img_str = response_body[\"artifacts\"][0].get(\"base64\")\n",
    "print(f\"{base_64_img_str[0:80]}...\")\n",
    "\n",
    "os.makedirs(\"data\", exist_ok=True)\n",
    "eg2_3 = Image.open(io.BytesIO(base64.decodebytes(bytes(base_64_img_str, \"utf-8\"))))\n",
    "eg2_3.save(\"data/eg2_3.png\")\n",
    "eg2_3"
   ]
  },
  {
   "cell_type": "markdown",
   "id": "2acc0abf-7b40-4ae4-8870-37d1295d4676",
   "metadata": {},
   "source": [
    "## Exercises:\n",
    "\n",
    "Let's experiment with some image generation that requires detail in the prompt."
   ]
  },
  {
   "cell_type": "markdown",
   "id": "205ffbbe-31c2-4ba2-8814-f2fa43aa9095",
   "metadata": {},
   "source": [
    "**Example 1.1 - Replicating stories**\n",
    "\n",
    "Using proper formatting, the included parameters, and detailed descriptions, generate an image based on a scene in a book you read or a movie you saw recently."
   ]
  },
  {
   "cell_type": "code",
   "execution_count": null,
   "id": "89b77be8-8c62-482e-b041-69de46e21771",
   "metadata": {
    "tags": []
   },
   "outputs": [],
   "source": [
    "prompt = \"INSERT PROMPT\"\n",
    "\n",
    "cfg_scale = \n",
    "seed = \n",
    "steps = \n",
    "style_preset =   # (e.g. photographic, digital-art, cinematic, ...)\n",
    "clip_guidance_preset =  # (e.g. FAST_BLUE FAST_GREEN NONE SIMPLE SLOW SLOWER SLOWEST)\n",
    "sampler =  # (e.g. DDIM, DDPM, K_DPMPP_SDE, K_DPMPP_2M, K_DPMPP_2S_ANCESTRAL, K_DPM_2, K_DPM_2_ANCESTRAL, K_EULER, K_EULER_ANCESTRAL, K_HEUN, K_LMS)\n",
    "width = "
   ]
  },
  {
   "cell_type": "code",
   "execution_count": null,
   "id": "1547bc80-cb63-4902-bdff-d87e88ea4e08",
   "metadata": {
    "tags": []
   },
   "outputs": [],
   "source": [
    "request = json.dumps({\n",
    "    \"text_prompts\": (\n",
    "        [{\"text\": prompt}]\n",
    "    ),\n",
    "    \"cfg_scale\": cfg_scale,\n",
    "    \"seed\": seed,\n",
    "    \"steps\": steps,\n",
    "    \"style_preset\": style_preset,\n",
    "    \"clip_guidance_preset\": clip_guidance_preset,\n",
    "    \"sampler\": sampler,\n",
    "    \"width\": width\n",
    "})\n",
    "\n",
    "response = boto3_bedrock.invoke_model(body=request, modelId=modelId)\n",
    "response_body = json.loads(response.get(\"body\").read())\n",
    "\n",
    "print(response_body[\"result\"])\n",
    "base_64_img_str = response_body[\"artifacts\"][0].get(\"base64\")\n",
    "print(f\"{base_64_img_str[0:80]}...\")\n",
    "\n",
    "os.makedirs(\"data\", exist_ok=True)\n",
    "ex2_1 = Image.open(io.BytesIO(base64.decodebytes(bytes(base_64_img_str, \"utf-8\"))))\n",
    "ex2_1.save(\"data/ex2_1.png\")\n",
    "ex2_1"
   ]
  },
  {
   "cell_type": "markdown",
   "id": "6c056460-b421-4563-b6f2-8fc8d7dab829",
   "metadata": {},
   "source": [
    "**Example 1.2 - Capturing an image**\n",
    "\n",
    "See if you can recreate an image of any particular scene in your life, be it your office, park, house, etc. Think about the details required to make this come to life."
   ]
  },
  {
   "cell_type": "code",
   "execution_count": null,
   "id": "cf181387-4246-4f67-8cf6-e2fa9b95472b",
   "metadata": {
    "tags": []
   },
   "outputs": [],
   "source": [
    "prompt = \"INSERT PROMPT\"\n",
    "\n",
    "cfg_scale = \n",
    "seed = \n",
    "steps = \n",
    "style_preset =   # (e.g. photographic, digital-art, cinematic, ...)\n",
    "clip_guidance_preset =  # (e.g. FAST_BLUE FAST_GREEN NONE SIMPLE SLOW SLOWER SLOWEST)\n",
    "sampler =  # (e.g. DDIM, DDPM, K_DPMPP_SDE, K_DPMPP_2M, K_DPMPP_2S_ANCESTRAL, K_DPM_2, K_DPM_2_ANCESTRAL, K_EULER, K_EULER_ANCESTRAL, K_HEUN, K_LMS)\n",
    "width = "
   ]
  },
  {
   "cell_type": "code",
   "execution_count": null,
   "id": "15ffebee-dd14-467a-a9c3-07d9ea72f8fe",
   "metadata": {
    "tags": []
   },
   "outputs": [],
   "source": [
    "request = json.dumps({\n",
    "    \"text_prompts\": (\n",
    "        [{\"text\": prompt}]\n",
    "    ),\n",
    "    \"cfg_scale\": cfg_scale,\n",
    "    \"seed\": seed,\n",
    "    \"steps\": steps,\n",
    "    \"style_preset\": style_preset,\n",
    "    \"clip_guidance_preset\": clip_guidance_preset,\n",
    "    \"sampler\": sampler,\n",
    "    \"width\": width,\n",
    "})\n",
    "\n",
    "response = boto3_bedrock.invoke_model(body=request, modelId=modelId)\n",
    "response_body = json.loads(response.get(\"body\").read())\n",
    "\n",
    "print(response_body[\"result\"])\n",
    "base_64_img_str = response_body[\"artifacts\"][0].get(\"base64\")\n",
    "print(f\"{base_64_img_str[0:80]}...\")\n",
    "\n",
    "os.makedirs(\"data\", exist_ok=True)\n",
    "ex2_2 = Image.open(io.BytesIO(base64.decodebytes(bytes(base_64_img_str, \"utf-8\"))))\n",
    "ex2_2.save(\"data/ex2_2.png\")\n",
    "ex2_2"
   ]
  }
 ],
 "metadata": {
  "availableInstances": [
   {
    "_defaultOrder": 0,
    "_isFastLaunch": true,
    "category": "General purpose",
    "gpuNum": 0,
    "hideHardwareSpecs": false,
    "memoryGiB": 4,
    "name": "ml.t3.medium",
    "vcpuNum": 2
   },
   {
    "_defaultOrder": 1,
    "_isFastLaunch": false,
    "category": "General purpose",
    "gpuNum": 0,
    "hideHardwareSpecs": false,
    "memoryGiB": 8,
    "name": "ml.t3.large",
    "vcpuNum": 2
   },
   {
    "_defaultOrder": 2,
    "_isFastLaunch": false,
    "category": "General purpose",
    "gpuNum": 0,
    "hideHardwareSpecs": false,
    "memoryGiB": 16,
    "name": "ml.t3.xlarge",
    "vcpuNum": 4
   },
   {
    "_defaultOrder": 3,
    "_isFastLaunch": false,
    "category": "General purpose",
    "gpuNum": 0,
    "hideHardwareSpecs": false,
    "memoryGiB": 32,
    "name": "ml.t3.2xlarge",
    "vcpuNum": 8
   },
   {
    "_defaultOrder": 4,
    "_isFastLaunch": true,
    "category": "General purpose",
    "gpuNum": 0,
    "hideHardwareSpecs": false,
    "memoryGiB": 8,
    "name": "ml.m5.large",
    "vcpuNum": 2
   },
   {
    "_defaultOrder": 5,
    "_isFastLaunch": false,
    "category": "General purpose",
    "gpuNum": 0,
    "hideHardwareSpecs": false,
    "memoryGiB": 16,
    "name": "ml.m5.xlarge",
    "vcpuNum": 4
   },
   {
    "_defaultOrder": 6,
    "_isFastLaunch": false,
    "category": "General purpose",
    "gpuNum": 0,
    "hideHardwareSpecs": false,
    "memoryGiB": 32,
    "name": "ml.m5.2xlarge",
    "vcpuNum": 8
   },
   {
    "_defaultOrder": 7,
    "_isFastLaunch": false,
    "category": "General purpose",
    "gpuNum": 0,
    "hideHardwareSpecs": false,
    "memoryGiB": 64,
    "name": "ml.m5.4xlarge",
    "vcpuNum": 16
   },
   {
    "_defaultOrder": 8,
    "_isFastLaunch": false,
    "category": "General purpose",
    "gpuNum": 0,
    "hideHardwareSpecs": false,
    "memoryGiB": 128,
    "name": "ml.m5.8xlarge",
    "vcpuNum": 32
   },
   {
    "_defaultOrder": 9,
    "_isFastLaunch": false,
    "category": "General purpose",
    "gpuNum": 0,
    "hideHardwareSpecs": false,
    "memoryGiB": 192,
    "name": "ml.m5.12xlarge",
    "vcpuNum": 48
   },
   {
    "_defaultOrder": 10,
    "_isFastLaunch": false,
    "category": "General purpose",
    "gpuNum": 0,
    "hideHardwareSpecs": false,
    "memoryGiB": 256,
    "name": "ml.m5.16xlarge",
    "vcpuNum": 64
   },
   {
    "_defaultOrder": 11,
    "_isFastLaunch": false,
    "category": "General purpose",
    "gpuNum": 0,
    "hideHardwareSpecs": false,
    "memoryGiB": 384,
    "name": "ml.m5.24xlarge",
    "vcpuNum": 96
   },
   {
    "_defaultOrder": 12,
    "_isFastLaunch": false,
    "category": "General purpose",
    "gpuNum": 0,
    "hideHardwareSpecs": false,
    "memoryGiB": 8,
    "name": "ml.m5d.large",
    "vcpuNum": 2
   },
   {
    "_defaultOrder": 13,
    "_isFastLaunch": false,
    "category": "General purpose",
    "gpuNum": 0,
    "hideHardwareSpecs": false,
    "memoryGiB": 16,
    "name": "ml.m5d.xlarge",
    "vcpuNum": 4
   },
   {
    "_defaultOrder": 14,
    "_isFastLaunch": false,
    "category": "General purpose",
    "gpuNum": 0,
    "hideHardwareSpecs": false,
    "memoryGiB": 32,
    "name": "ml.m5d.2xlarge",
    "vcpuNum": 8
   },
   {
    "_defaultOrder": 15,
    "_isFastLaunch": false,
    "category": "General purpose",
    "gpuNum": 0,
    "hideHardwareSpecs": false,
    "memoryGiB": 64,
    "name": "ml.m5d.4xlarge",
    "vcpuNum": 16
   },
   {
    "_defaultOrder": 16,
    "_isFastLaunch": false,
    "category": "General purpose",
    "gpuNum": 0,
    "hideHardwareSpecs": false,
    "memoryGiB": 128,
    "name": "ml.m5d.8xlarge",
    "vcpuNum": 32
   },
   {
    "_defaultOrder": 17,
    "_isFastLaunch": false,
    "category": "General purpose",
    "gpuNum": 0,
    "hideHardwareSpecs": false,
    "memoryGiB": 192,
    "name": "ml.m5d.12xlarge",
    "vcpuNum": 48
   },
   {
    "_defaultOrder": 18,
    "_isFastLaunch": false,
    "category": "General purpose",
    "gpuNum": 0,
    "hideHardwareSpecs": false,
    "memoryGiB": 256,
    "name": "ml.m5d.16xlarge",
    "vcpuNum": 64
   },
   {
    "_defaultOrder": 19,
    "_isFastLaunch": false,
    "category": "General purpose",
    "gpuNum": 0,
    "hideHardwareSpecs": false,
    "memoryGiB": 384,
    "name": "ml.m5d.24xlarge",
    "vcpuNum": 96
   },
   {
    "_defaultOrder": 20,
    "_isFastLaunch": false,
    "category": "General purpose",
    "gpuNum": 0,
    "hideHardwareSpecs": true,
    "memoryGiB": 0,
    "name": "ml.geospatial.interactive",
    "supportedImageNames": [
     "sagemaker-geospatial-v1-0"
    ],
    "vcpuNum": 0
   },
   {
    "_defaultOrder": 21,
    "_isFastLaunch": true,
    "category": "Compute optimized",
    "gpuNum": 0,
    "hideHardwareSpecs": false,
    "memoryGiB": 4,
    "name": "ml.c5.large",
    "vcpuNum": 2
   },
   {
    "_defaultOrder": 22,
    "_isFastLaunch": false,
    "category": "Compute optimized",
    "gpuNum": 0,
    "hideHardwareSpecs": false,
    "memoryGiB": 8,
    "name": "ml.c5.xlarge",
    "vcpuNum": 4
   },
   {
    "_defaultOrder": 23,
    "_isFastLaunch": false,
    "category": "Compute optimized",
    "gpuNum": 0,
    "hideHardwareSpecs": false,
    "memoryGiB": 16,
    "name": "ml.c5.2xlarge",
    "vcpuNum": 8
   },
   {
    "_defaultOrder": 24,
    "_isFastLaunch": false,
    "category": "Compute optimized",
    "gpuNum": 0,
    "hideHardwareSpecs": false,
    "memoryGiB": 32,
    "name": "ml.c5.4xlarge",
    "vcpuNum": 16
   },
   {
    "_defaultOrder": 25,
    "_isFastLaunch": false,
    "category": "Compute optimized",
    "gpuNum": 0,
    "hideHardwareSpecs": false,
    "memoryGiB": 72,
    "name": "ml.c5.9xlarge",
    "vcpuNum": 36
   },
   {
    "_defaultOrder": 26,
    "_isFastLaunch": false,
    "category": "Compute optimized",
    "gpuNum": 0,
    "hideHardwareSpecs": false,
    "memoryGiB": 96,
    "name": "ml.c5.12xlarge",
    "vcpuNum": 48
   },
   {
    "_defaultOrder": 27,
    "_isFastLaunch": false,
    "category": "Compute optimized",
    "gpuNum": 0,
    "hideHardwareSpecs": false,
    "memoryGiB": 144,
    "name": "ml.c5.18xlarge",
    "vcpuNum": 72
   },
   {
    "_defaultOrder": 28,
    "_isFastLaunch": false,
    "category": "Compute optimized",
    "gpuNum": 0,
    "hideHardwareSpecs": false,
    "memoryGiB": 192,
    "name": "ml.c5.24xlarge",
    "vcpuNum": 96
   },
   {
    "_defaultOrder": 29,
    "_isFastLaunch": true,
    "category": "Accelerated computing",
    "gpuNum": 1,
    "hideHardwareSpecs": false,
    "memoryGiB": 16,
    "name": "ml.g4dn.xlarge",
    "vcpuNum": 4
   },
   {
    "_defaultOrder": 30,
    "_isFastLaunch": false,
    "category": "Accelerated computing",
    "gpuNum": 1,
    "hideHardwareSpecs": false,
    "memoryGiB": 32,
    "name": "ml.g4dn.2xlarge",
    "vcpuNum": 8
   },
   {
    "_defaultOrder": 31,
    "_isFastLaunch": false,
    "category": "Accelerated computing",
    "gpuNum": 1,
    "hideHardwareSpecs": false,
    "memoryGiB": 64,
    "name": "ml.g4dn.4xlarge",
    "vcpuNum": 16
   },
   {
    "_defaultOrder": 32,
    "_isFastLaunch": false,
    "category": "Accelerated computing",
    "gpuNum": 1,
    "hideHardwareSpecs": false,
    "memoryGiB": 128,
    "name": "ml.g4dn.8xlarge",
    "vcpuNum": 32
   },
   {
    "_defaultOrder": 33,
    "_isFastLaunch": false,
    "category": "Accelerated computing",
    "gpuNum": 4,
    "hideHardwareSpecs": false,
    "memoryGiB": 192,
    "name": "ml.g4dn.12xlarge",
    "vcpuNum": 48
   },
   {
    "_defaultOrder": 34,
    "_isFastLaunch": false,
    "category": "Accelerated computing",
    "gpuNum": 1,
    "hideHardwareSpecs": false,
    "memoryGiB": 256,
    "name": "ml.g4dn.16xlarge",
    "vcpuNum": 64
   },
   {
    "_defaultOrder": 35,
    "_isFastLaunch": false,
    "category": "Accelerated computing",
    "gpuNum": 1,
    "hideHardwareSpecs": false,
    "memoryGiB": 61,
    "name": "ml.p3.2xlarge",
    "vcpuNum": 8
   },
   {
    "_defaultOrder": 36,
    "_isFastLaunch": false,
    "category": "Accelerated computing",
    "gpuNum": 4,
    "hideHardwareSpecs": false,
    "memoryGiB": 244,
    "name": "ml.p3.8xlarge",
    "vcpuNum": 32
   },
   {
    "_defaultOrder": 37,
    "_isFastLaunch": false,
    "category": "Accelerated computing",
    "gpuNum": 8,
    "hideHardwareSpecs": false,
    "memoryGiB": 488,
    "name": "ml.p3.16xlarge",
    "vcpuNum": 64
   },
   {
    "_defaultOrder": 38,
    "_isFastLaunch": false,
    "category": "Accelerated computing",
    "gpuNum": 8,
    "hideHardwareSpecs": false,
    "memoryGiB": 768,
    "name": "ml.p3dn.24xlarge",
    "vcpuNum": 96
   },
   {
    "_defaultOrder": 39,
    "_isFastLaunch": false,
    "category": "Memory Optimized",
    "gpuNum": 0,
    "hideHardwareSpecs": false,
    "memoryGiB": 16,
    "name": "ml.r5.large",
    "vcpuNum": 2
   },
   {
    "_defaultOrder": 40,
    "_isFastLaunch": false,
    "category": "Memory Optimized",
    "gpuNum": 0,
    "hideHardwareSpecs": false,
    "memoryGiB": 32,
    "name": "ml.r5.xlarge",
    "vcpuNum": 4
   },
   {
    "_defaultOrder": 41,
    "_isFastLaunch": false,
    "category": "Memory Optimized",
    "gpuNum": 0,
    "hideHardwareSpecs": false,
    "memoryGiB": 64,
    "name": "ml.r5.2xlarge",
    "vcpuNum": 8
   },
   {
    "_defaultOrder": 42,
    "_isFastLaunch": false,
    "category": "Memory Optimized",
    "gpuNum": 0,
    "hideHardwareSpecs": false,
    "memoryGiB": 128,
    "name": "ml.r5.4xlarge",
    "vcpuNum": 16
   },
   {
    "_defaultOrder": 43,
    "_isFastLaunch": false,
    "category": "Memory Optimized",
    "gpuNum": 0,
    "hideHardwareSpecs": false,
    "memoryGiB": 256,
    "name": "ml.r5.8xlarge",
    "vcpuNum": 32
   },
   {
    "_defaultOrder": 44,
    "_isFastLaunch": false,
    "category": "Memory Optimized",
    "gpuNum": 0,
    "hideHardwareSpecs": false,
    "memoryGiB": 384,
    "name": "ml.r5.12xlarge",
    "vcpuNum": 48
   },
   {
    "_defaultOrder": 45,
    "_isFastLaunch": false,
    "category": "Memory Optimized",
    "gpuNum": 0,
    "hideHardwareSpecs": false,
    "memoryGiB": 512,
    "name": "ml.r5.16xlarge",
    "vcpuNum": 64
   },
   {
    "_defaultOrder": 46,
    "_isFastLaunch": false,
    "category": "Memory Optimized",
    "gpuNum": 0,
    "hideHardwareSpecs": false,
    "memoryGiB": 768,
    "name": "ml.r5.24xlarge",
    "vcpuNum": 96
   },
   {
    "_defaultOrder": 47,
    "_isFastLaunch": false,
    "category": "Accelerated computing",
    "gpuNum": 1,
    "hideHardwareSpecs": false,
    "memoryGiB": 16,
    "name": "ml.g5.xlarge",
    "vcpuNum": 4
   },
   {
    "_defaultOrder": 48,
    "_isFastLaunch": false,
    "category": "Accelerated computing",
    "gpuNum": 1,
    "hideHardwareSpecs": false,
    "memoryGiB": 32,
    "name": "ml.g5.2xlarge",
    "vcpuNum": 8
   },
   {
    "_defaultOrder": 49,
    "_isFastLaunch": false,
    "category": "Accelerated computing",
    "gpuNum": 1,
    "hideHardwareSpecs": false,
    "memoryGiB": 64,
    "name": "ml.g5.4xlarge",
    "vcpuNum": 16
   },
   {
    "_defaultOrder": 50,
    "_isFastLaunch": false,
    "category": "Accelerated computing",
    "gpuNum": 1,
    "hideHardwareSpecs": false,
    "memoryGiB": 128,
    "name": "ml.g5.8xlarge",
    "vcpuNum": 32
   },
   {
    "_defaultOrder": 51,
    "_isFastLaunch": false,
    "category": "Accelerated computing",
    "gpuNum": 1,
    "hideHardwareSpecs": false,
    "memoryGiB": 256,
    "name": "ml.g5.16xlarge",
    "vcpuNum": 64
   },
   {
    "_defaultOrder": 52,
    "_isFastLaunch": false,
    "category": "Accelerated computing",
    "gpuNum": 4,
    "hideHardwareSpecs": false,
    "memoryGiB": 192,
    "name": "ml.g5.12xlarge",
    "vcpuNum": 48
   },
   {
    "_defaultOrder": 53,
    "_isFastLaunch": false,
    "category": "Accelerated computing",
    "gpuNum": 4,
    "hideHardwareSpecs": false,
    "memoryGiB": 384,
    "name": "ml.g5.24xlarge",
    "vcpuNum": 96
   },
   {
    "_defaultOrder": 54,
    "_isFastLaunch": false,
    "category": "Accelerated computing",
    "gpuNum": 8,
    "hideHardwareSpecs": false,
    "memoryGiB": 768,
    "name": "ml.g5.48xlarge",
    "vcpuNum": 192
   },
   {
    "_defaultOrder": 55,
    "_isFastLaunch": false,
    "category": "Accelerated computing",
    "gpuNum": 8,
    "hideHardwareSpecs": false,
    "memoryGiB": 1152,
    "name": "ml.p4d.24xlarge",
    "vcpuNum": 96
   },
   {
    "_defaultOrder": 56,
    "_isFastLaunch": false,
    "category": "Accelerated computing",
    "gpuNum": 8,
    "hideHardwareSpecs": false,
    "memoryGiB": 1152,
    "name": "ml.p4de.24xlarge",
    "vcpuNum": 96
   }
  ],
  "instance_type": "ml.t3.medium",
  "kernelspec": {
   "display_name": "Python 3 (Data Science 3.0)",
   "language": "python",
   "name": "python3__SAGEMAKER_INTERNAL__arn:aws:sagemaker:us-east-1:081325390199:image/sagemaker-data-science-310-v1"
  },
  "language_info": {
   "codemirror_mode": {
    "name": "ipython",
    "version": 3
   },
   "file_extension": ".py",
   "mimetype": "text/x-python",
   "name": "python",
   "nbconvert_exporter": "python",
   "pygments_lexer": "ipython3",
   "version": "3.10.6"
  }
 },
 "nbformat": 4,
 "nbformat_minor": 5
}
