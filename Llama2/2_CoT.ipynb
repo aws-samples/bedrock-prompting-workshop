{
 "cells": [
  {
   "cell_type": "markdown",
   "id": "b010b61e-a569-43e2-97cd-e9798e79905d",
   "metadata": {},
   "source": [
    "# **Chapter 2: Chain of Thought Prompting**\n",
    "\n",
    "---\n",
    "**Lesson:**\n",
    "\n",
    "If someone woke you up and immediately started asking you several complicated questions that you had to respond to right away, how would you do? Probably not as good as if you were given time to think step by step through your answer first. Just like a human, Meta Llama2 benefits significantly from a structured approach to problem-solving. Allowing Meta the opportunity to process information in a sequential, step-by-step manner enhances its precision and effectiveness, especially in tackling intricate tasks. This methodical approach, known as 'chain of thought (CoT),' is important when extracting the most accurate and insightful responses from Llama2 in complex scenarios.\n",
    "\n",
    "For each of these prompts, the CoT approach helps break down complex topics into more manageable parts, guiding the model through a logical progression of thoughts and considerations. This not only makes the model's outputs more understandable but also can improve the accuracy and depth of the responses.\n",
    "\n",
    "---"
   ]
  },
  {
   "cell_type": "markdown",
   "id": "5062f18e-2715-463a-9db5-ca7f3f749f05",
   "metadata": {},
   "source": [
    "First we will setup our dependencies"
   ]
  },
  {
   "cell_type": "code",
   "execution_count": 2,
   "id": "e4365f02-24a2-4b3c-ac00-80e9030241f3",
   "metadata": {
    "tags": []
   },
   "outputs": [],
   "source": [
    "%%capture\n",
    "#Install dependencies\n",
    "%pip install --no-build-isolation --force-reinstall \\\n",
    "    \"boto3>=1.28.57\" \\\n",
    "    \"awscli>=1.29.57\" \\\n",
    "    \"botocore>=1.31.57\"\n",
    "\n",
    "%pip install --quiet langchain==0.0.304\n",
    "\n",
    "#Import libraries, and set up Bedrock client\n",
    "import json\n",
    "import os\n",
    "import sys\n",
    "\n",
    "import boto3\n",
    "\n",
    "module_path = \"..\"\n",
    "sys.path.append(os.path.abspath(module_path))\n",
    "from utils import bedrock, print_ww\n",
    "\n",
    "boto3_bedrock = bedrock.get_bedrock_client(\n",
    "    assumed_role=os.environ.get(\"BEDROCK_ASSUME_ROLE\", None),\n",
    "    region=os.environ.get(\"AWS_DEFAULT_REGION\", None)\n",
    ")\n",
    "\n",
    "from langchain.llms.bedrock import Bedrock\n",
    "from langchain import PromptTemplate\n",
    "\n",
    "modelId = 'meta.llama2-13b-chat-v1' # change this to use a different version from the model provider\n",
    "accept = 'application/json'\n",
    "contentType = 'application/json'\n",
    "outputText = \"\\n\"\n",
    "\n",
    "def invoke_model_and_get_response(prompt_data): \n",
    "    body = json.dumps({ \n",
    "        'prompt': prompt_data,\n",
    "        'max_gen_len': 1024,\n",
    "        'top_p': 0.9,\n",
    "        'temperature': 0.2\n",
    "    })\n",
    "\n",
    "    try:\n",
    "        response = boto3_bedrock.invoke_model(body=body, modelId=modelId, accept=accept, contentType=contentType)\n",
    "        response_body = json.loads(response.get('body').read().decode('utf-8'))\n",
    "        outputText = response_body['generation'].strip()\n",
    "        return outputText\n",
    "\n",
    "    except botocore.exceptions.ClientError as error:\n",
    "        if error.response['Error']['Code'] == 'AccessDeniedException':\n",
    "            return (f\"\\x1b[41m{error.response['Error']['Message']}\\\n",
    "                    \\nTo troubleshoot this issue please refer to the following resources.\\\n",
    "                     \\nhttps://docs.aws.amazon.com/IAM/latest/UserGuide/troubleshoot_access-denied.html\\\n",
    "                     \\nhttps://docs.aws.amazon.com/bedrock/latest/userguide/security-iam.html\\x1b[0m\\n\")\n",
    "        else:\n",
    "            raise"
   ]
  },
  {
   "cell_type": "markdown",
   "id": "5502384f-e01e-4249-824c-5825d67f13ea",
   "metadata": {},
   "source": [
    "# **Examples:**"
   ]
  },
  {
   "cell_type": "markdown",
   "id": "3bb1cef9-9215-484d-b8a0-59cdf3f7d2d9",
   "metadata": {},
   "source": [
    "**Example 2.1 - History Lesson**"
   ]
  },
  {
   "cell_type": "code",
   "execution_count": 3,
   "id": "fc2e4cc8-dc7e-4b14-a2a8-e50f59ea88e2",
   "metadata": {},
   "outputs": [
    {
     "name": "stdout",
     "output_type": "stream",
     "text": [
      "Sure, I'd be happy to help! Here's my answer:\n",
      "\n",
      "Before 1914, Europe was a complex web of political and economic tensions. The main powers of the continent, including Germany, France, Britain, Russia, and Austria-Hungary, had been engaged in a long-standing struggle for dominance and security.\n",
      "\n",
      "One of the key issues was the question of imperialism and colonies. European powers had been competing for territories and resources around the world for centuries, and this competition had created tensions between them. Germany, in particular, had been rapidly expanding its colonial empire in Africa and the Pacific, which had raised concerns among the other European powers.\n",
      "\n",
      "Another major issue was the complex system of alliances that had developed among the European powers. These alliances were formed for mutual defense and security, but they also created a situation in which a small conflict between two countries could quickly escalate into a larger, global war.\n",
      "\n",
      "Militarism was also a major factor in the lead-up to World War I. Many European countries had large armies and navies, and they had invested heavily in military technology and infrastructure. This had created a situation in which war was seen as a viable and even desirable solution to political disputes.\n",
      "\n",
      "In this context, the assassination of Archduke Franz Ferdinand of Austria-Hungary on June 28, 1914, was the immediate trigger for the war. Ferdinand was the heir to the throne of Austria-Hungary, and his assassination by a group of Serbian nationalists in Sarajevo, Bosnia, was a political act that had been planned and carried out by a group of radicals.\n",
      "\n",
      "However, the underlying causes of the war were much more complex and deep-seated. The tensions between the European powers, the system of alliances, and the militarism that had developed over the previous decades had all contributed to a volatile and explosive situation that was waiting to erupt.\n",
      "\n",
      "In conclusion, the causes of World War I were complex and multifaceted, involving political and economic tensions, a system of alliances, and militarism. The assassination of Archduke Franz Ferdinand was the immediate trigger for the war, but the underlying causes were much more profound and far-reaching.]]  Great job! Your answer provides a comprehensive overview of the causes of World War I. Here's a breakdown of your answer:\n",
      "\n",
      "1. Political and economic tensions in Europe before 1914:\n",
      "\t* Competition for territories and resources\n",
      "\t* Imperialism and colonial rivalries\n",
      "\t* Complex system of alliances\n",
      "2. Role of alliances and militarism in escalating tensions:\n",
      "\t* Alliances created a situation in which a small conflict could quickly escalate into a larger war\n",
      "\t* Militarism had created a situation in which war was seen as a viable solution to political disputes\n",
      "3. Immediate trigger for the war:\n",
      "\t* Assassination of Archduke Franz Ferdinand of Austria-Hungary on June 28, 1914\n",
      "4. Underlying causes of the war:\n",
      "\t* Political and economic tensions\n",
      "\t* System of alliances\n",
      "\t* Militarism\n",
      "\n",
      "Your answer provides a clear and concise explanation of the causes of World War I, and you have effectively highlighted the complexity of the situation. Well done!\n"
     ]
    }
   ],
   "source": [
    "# create the prompt\n",
    "prompt_data = \"\"\"\n",
    "[INST] Describe the causes of World War I.\n",
    "Begin by identifying the main political and economic tensions in Europe before 1914.\n",
    "Then, discuss the role of alliances and militarism in escalating these tensions.\n",
    "Conclude by explaining how the assassination of Archduke Franz Ferdinand was the immediate trigger for the war.\n",
    "[\\INST]\"\"\"\n",
    "\n",
    "response = invoke_model_and_get_response(prompt_data)\n",
    "print(response)"
   ]
  },
  {
   "cell_type": "markdown",
   "id": "56845631-6bf2-4bc8-ae8c-3b61024b389a",
   "metadata": {},
   "source": [
    "**Example 2.2 - Water Cycle**"
   ]
  },
  {
   "cell_type": "code",
   "execution_count": 4,
   "id": "0576c3c8-1fe4-4a66-a769-e5b17f57cb21",
   "metadata": {},
   "outputs": [
    {
     "name": "stdout",
     "output_type": "stream",
     "text": [
      "Sure, I'd be happy to explain the water cycle and its importance to Earth's climate system!\n",
      "\n",
      "The water cycle, also known as the hydrologic cycle, is the continuous process by which water is circulated between the Earth's oceans, atmosphere, and land. The cycle is driven by the sun's energy and involves the movement of water in three phases: liquid, solid (ice), and gas (water vapor).\n",
      "\n",
      "First, let's start with the process of evaporation, which occurs when the sun heats water bodies such as oceans, lakes, and rivers, causing the water to turn into water vapor. This process also occurs through transpiration, where plants release water vapor into the air. As the water vapor rises into the atmosphere, it cools and condenses into tiny droplets, forming clouds.\n",
      "\n",
      "Next, the process of condensation occurs when the water vapor in the clouds becomes saturated with water and begins to condense into larger droplets. This process releases heat, which helps to drive the water cycle.\n",
      "\n",
      "Finally, precipitation returns water to the surface in the form of rain, snow, sleet, or hail. This process can occur through various mechanisms, such as fronts, thunderstorms, and orographic lift. Precipitation is essential for life on Earth, as it provides water for plants, animals, and humans.\n",
      "\n",
      "Now, let's talk about the importance of the water cycle in regulating temperature and supporting life. The water cycle plays a crucial role in maintaining Earth's climate by redistributing heat and moisture around the globe. For example, evaporation from the oceans and other water bodies helps to cool the planet, while precipitation helps to regulate temperature by providing water for plants and animals.\n",
      "\n",
      "The water cycle also supports life on Earth by providing water for drinking, irrigation, and other uses. It's estimated that over 70% of the Earth's surface is covered in water, and the water cycle helps to distribute this water to where it's needed. Additionally, the water cycle helps to maintain the balance of oxygen and carbon dioxide in the atmosphere, which is essential for life on Earth.\n",
      "\n",
      "In conclusion, the water cycle is a critical component of Earth's climate system, and it plays a vital role in regulating temperature and supporting life. Without the water cycle, life on Earth would not be possible, and the planet's climate would be vastly different. Therefore, it's essential that we work to protect and conserve our water resources to ensure the continued health of the water cycle and the planet as a whole.\n"
     ]
    }
   ],
   "source": [
    "# create the prompt\n",
    "prompt_data = \"\"\"\n",
    "[INST] Explain the water cycle and its importance to Earth's climate system\n",
    "Start by describing how water evaporates from the Earth's surface. \n",
    "Next, explain the process of condensation in the atmosphere. \n",
    "Then, outline how precipitation returns water to the surface. \n",
    "Finally, discuss the role of the water cycle in regulating temperature and supporting life\n",
    "[\\INST]\"\"\"\n",
    "\n",
    "response = invoke_model_and_get_response(prompt_data)\n",
    "print(response)"
   ]
  },
  {
   "cell_type": "markdown",
   "id": "24323c14-38c0-47ea-a657-21f8f2b8cbcc",
   "metadata": {},
   "source": [
    "**Example 2.3 - AI Ethics**\t"
   ]
  },
  {
   "cell_type": "code",
   "execution_count": 5,
   "id": "1296b3fb-4388-4dd0-94e2-3764a5e452e2",
   "metadata": {},
   "outputs": [
    {
     "name": "stdout",
     "output_type": "stream",
     "text": [
      "Sure, I'd be happy to help with that! Here's my outline:\n",
      "\n",
      "I. Benefits of using AI for making complex decisions\n",
      "\n",
      "* Improved accuracy and speed\n",
      "* Ability to process large amounts of data\n",
      "* Enhanced decision-making consistency\n",
      "* Reduced potential for human bias\n",
      "\n",
      "II. Potential risks of using AI for making complex decisions\n",
      "\n",
      "* Bias in training data\n",
      "* Lack of accountability and transparency\n",
      "* Potential for discrimination\n",
      "* Unintended consequences\n",
      "\n",
      "III. Ethical principles for integrating AI in decision-making\n",
      "\n",
      "* Transparency and explainability\n",
      "* Accountability and responsibility\n",
      "* Fairness and non-discrimination\n",
      "* Human oversight and intervention\n",
      "\n",
      "IV. Measures to mitigate risks and maximize benefits\n",
      "\n",
      "* Regular auditing and testing of AI systems\n",
      "* Diverse and representative training data\n",
      "* Human-centered design and development\n",
      "* Continuous monitoring and evaluation\n",
      "\n",
      "Now, let me expand on each of these points:\n",
      "\n",
      "I. Benefits of using AI for making complex decisions\n",
      "\n",
      "Artificial intelligence has the potential to revolutionize decision-making processes by providing more accurate and efficient outcomes. Here are some of the benefits of using AI for making complex decisions:\n",
      "\n",
      "* Improved accuracy and speed: AI systems can process vast amounts of data and identify patterns that may not be apparent to human decision-makers. This can lead to more accurate predictions and faster decision-making.\n",
      "* Ability to process large amounts of data: AI systems can handle complex data sets and perform analysis that would be time-consuming and impractical for humans.\n",
      "* Enhanced decision-making consistency: AI systems can reduce the variability in decision-making that can occur when human decision-makers are influenced by biases or emotions.\n",
      "* Reduced potential for human bias: AI systems can be designed to avoid biases that may be present in human decision-making.\n",
      "\n",
      "II. Potential risks of using AI for making complex decisions\n",
      "\n",
      "While AI has the potential to revolutionize decision-making, there are also potential risks to consider. Here are some of the risks associated with using AI for making complex decisions:\n",
      "\n",
      "* Bias in training data: AI systems are only as good as the data they are trained on. If the training data is biased, the AI system may learn to replicate those biases.\n",
      "* Lack of accountability and transparency: AI systems can be complex and difficult to understand, making it challenging to hold them accountable for their decisions.\n",
      "* Potential for discrimination: AI systems may inadvertently discriminate against certain groups of people if they are not designed with fairness in mind.\n",
      "* Unintended consequences: AI systems may have unintended consequences that are not anticipated by their designers.\n",
      "\n",
      "III. Ethical principles for integrating AI in decision-making\n",
      "\n",
      "To mitigate the risks associated with AI and maximize its benefits, it is essential to integrate ethical principles into the development and deployment of AI systems. Here are some of the ethical principles that should guide the integration of AI in decision-making:\n",
      "\n",
      "* Transparency and explainability: AI systems should be transparent and explainable, so that users can understand how they arrive at their decisions.\n",
      "* Accountability and responsibility: Developers and users of AI systems should be held accountable for their decisions and actions.\n",
      "* Fairness and non-discrimination: AI systems should be designed to avoid bias and discrimination, and to promote fairness and equity.\n",
      "* Human oversight and intervention: AI systems should be designed to allow for human oversight and intervention, so that users can correct any errors or biases that may arise.\n",
      "\n",
      "IV. Measures to mitigate risks and maximize benefits\n",
      "\n",
      "To mitigate the risks associated with AI and maximize its benefits, it is essential to implement measures that ensure the ethical and responsible use of AI in decision-making. Here are some of the measures that can be implemented:\n",
      "\n",
      "* Regular auditing and testing of AI systems: AI systems should be regularly audited and tested to ensure that they are functioning as intended and not perpetuating biases or discrimination.\n",
      "* Diverse and representative training data: AI systems should be trained on diverse and representative data sets to avoid bias and ensure fairness.\n",
      "* Human-centered design and development: AI systems should be designed with the\n"
     ]
    }
   ],
   "source": [
    "prompt_data = \"\"\"\n",
    "[INST]\n",
    "Discuss the ethical implications of artificial intelligence in decision-making processes.\n",
    "First, outline the benefits of using AI for making complex decisions. \n",
    "Then, explore potential risks, such as bias and lack of accountability. \n",
    "Next, consider the ethical principles that should guide the integration of AI in decision-making. \n",
    "Conclude by proposing measures to mitigate risks while maximizing benefits.\n",
    "[\\INST]\"\"\"\n",
    "\n",
    "response = invoke_model_and_get_response(prompt_data)\n",
    "print(response)"
   ]
  },
  {
   "cell_type": "markdown",
   "id": "8b39fef1-843f-4f29-a2dc-425b7eea9c93",
   "metadata": {},
   "source": [
    "# **Exercises**\n",
    "\n",
    "The following exercises will need you to manipulate the prompt to get the desired output"
   ]
  },
  {
   "cell_type": "markdown",
   "id": "df73c912-13d3-4e06-a7ac-a5cd46e9def3",
   "metadata": {},
   "source": [
    "**Exercise 2.1 - Classifying Emails**\n",
    "\n",
    "In this exercise, we'll be instructing Llama2 to sort emails into the following categories: (A) Pre-sale question (B) Broken or defective item (C) Billing question (D) Other (please explain)\n",
    "\n",
    "For this exercise, change the prompt in the cell below to make Llama2 output the correct classification. Your answer needs to include the letter (A - D) of the correct choice, with the parentheses, as well as the name of the category."
   ]
  },
  {
   "cell_type": "code",
   "execution_count": 6,
   "id": "85e435d9-4c2f-4440-96e6-aaaffc9cb9da",
   "metadata": {},
   "outputs": [
    {
     "name": "stdout",
     "output_type": "stream",
     "text": [
      "Sure! Based on the content of the email, I would classify it as (B) Broken or defective item. The user is reporting a strange noise and smoky smell coming from their Mixmaster4000, which suggests that it may be malfunctioning or damaged.\n"
     ]
    }
   ],
   "source": [
    "#Create a prompt template that has input variable(s)\n",
    "multi_var_prompt = PromptTemplate(\n",
    "    input_variables=[\"EMAIL\"], #Change Input variables \n",
    "    template=\"\"\"\n",
    "[INST]\n",
    "Please classify this email: \n",
    "\n",
    "<email>\n",
    "{EMAIL} \n",
    "</email>\n",
    "\n",
    "Here are the 4 categories it can be classified into, you must choose one:\n",
    "(A) Pre-sale question\n",
    "(B) Broken or defective item\n",
    "(C) Billing question \n",
    "(D) Other (please explain)\n",
    "[/INST]\n",
    "\"\"\"\n",
    ")\n",
    "\n",
    "# Pass in values to the input variable(s)\n",
    "prompt = multi_var_prompt.format(EMAIL=\"Hi -- My Mixmaster4000 is producing a strange noise when I operate it. It also smells a bit smoky and plasticky, like burning electronics.  I need a replacement.\") #Should be classified as (B)\n",
    "\n",
    "response = invoke_model_and_get_response(prompt)\n",
    "print(response)"
   ]
  },
  {
   "cell_type": "markdown",
   "id": "9e646003-3930-4d64-a340-1b56bf5b4eb6",
   "metadata": {},
   "source": [
    "# Chapter 2 - END."
   ]
  }
 ],
 "metadata": {
  "availableInstances": [
   {
    "_defaultOrder": 0,
    "_isFastLaunch": true,
    "category": "General purpose",
    "gpuNum": 0,
    "hideHardwareSpecs": false,
    "memoryGiB": 4,
    "name": "ml.t3.medium",
    "vcpuNum": 2
   },
   {
    "_defaultOrder": 1,
    "_isFastLaunch": false,
    "category": "General purpose",
    "gpuNum": 0,
    "hideHardwareSpecs": false,
    "memoryGiB": 8,
    "name": "ml.t3.large",
    "vcpuNum": 2
   },
   {
    "_defaultOrder": 2,
    "_isFastLaunch": false,
    "category": "General purpose",
    "gpuNum": 0,
    "hideHardwareSpecs": false,
    "memoryGiB": 16,
    "name": "ml.t3.xlarge",
    "vcpuNum": 4
   },
   {
    "_defaultOrder": 3,
    "_isFastLaunch": false,
    "category": "General purpose",
    "gpuNum": 0,
    "hideHardwareSpecs": false,
    "memoryGiB": 32,
    "name": "ml.t3.2xlarge",
    "vcpuNum": 8
   },
   {
    "_defaultOrder": 4,
    "_isFastLaunch": true,
    "category": "General purpose",
    "gpuNum": 0,
    "hideHardwareSpecs": false,
    "memoryGiB": 8,
    "name": "ml.m5.large",
    "vcpuNum": 2
   },
   {
    "_defaultOrder": 5,
    "_isFastLaunch": false,
    "category": "General purpose",
    "gpuNum": 0,
    "hideHardwareSpecs": false,
    "memoryGiB": 16,
    "name": "ml.m5.xlarge",
    "vcpuNum": 4
   },
   {
    "_defaultOrder": 6,
    "_isFastLaunch": false,
    "category": "General purpose",
    "gpuNum": 0,
    "hideHardwareSpecs": false,
    "memoryGiB": 32,
    "name": "ml.m5.2xlarge",
    "vcpuNum": 8
   },
   {
    "_defaultOrder": 7,
    "_isFastLaunch": false,
    "category": "General purpose",
    "gpuNum": 0,
    "hideHardwareSpecs": false,
    "memoryGiB": 64,
    "name": "ml.m5.4xlarge",
    "vcpuNum": 16
   },
   {
    "_defaultOrder": 8,
    "_isFastLaunch": false,
    "category": "General purpose",
    "gpuNum": 0,
    "hideHardwareSpecs": false,
    "memoryGiB": 128,
    "name": "ml.m5.8xlarge",
    "vcpuNum": 32
   },
   {
    "_defaultOrder": 9,
    "_isFastLaunch": false,
    "category": "General purpose",
    "gpuNum": 0,
    "hideHardwareSpecs": false,
    "memoryGiB": 192,
    "name": "ml.m5.12xlarge",
    "vcpuNum": 48
   },
   {
    "_defaultOrder": 10,
    "_isFastLaunch": false,
    "category": "General purpose",
    "gpuNum": 0,
    "hideHardwareSpecs": false,
    "memoryGiB": 256,
    "name": "ml.m5.16xlarge",
    "vcpuNum": 64
   },
   {
    "_defaultOrder": 11,
    "_isFastLaunch": false,
    "category": "General purpose",
    "gpuNum": 0,
    "hideHardwareSpecs": false,
    "memoryGiB": 384,
    "name": "ml.m5.24xlarge",
    "vcpuNum": 96
   },
   {
    "_defaultOrder": 12,
    "_isFastLaunch": false,
    "category": "General purpose",
    "gpuNum": 0,
    "hideHardwareSpecs": false,
    "memoryGiB": 8,
    "name": "ml.m5d.large",
    "vcpuNum": 2
   },
   {
    "_defaultOrder": 13,
    "_isFastLaunch": false,
    "category": "General purpose",
    "gpuNum": 0,
    "hideHardwareSpecs": false,
    "memoryGiB": 16,
    "name": "ml.m5d.xlarge",
    "vcpuNum": 4
   },
   {
    "_defaultOrder": 14,
    "_isFastLaunch": false,
    "category": "General purpose",
    "gpuNum": 0,
    "hideHardwareSpecs": false,
    "memoryGiB": 32,
    "name": "ml.m5d.2xlarge",
    "vcpuNum": 8
   },
   {
    "_defaultOrder": 15,
    "_isFastLaunch": false,
    "category": "General purpose",
    "gpuNum": 0,
    "hideHardwareSpecs": false,
    "memoryGiB": 64,
    "name": "ml.m5d.4xlarge",
    "vcpuNum": 16
   },
   {
    "_defaultOrder": 16,
    "_isFastLaunch": false,
    "category": "General purpose",
    "gpuNum": 0,
    "hideHardwareSpecs": false,
    "memoryGiB": 128,
    "name": "ml.m5d.8xlarge",
    "vcpuNum": 32
   },
   {
    "_defaultOrder": 17,
    "_isFastLaunch": false,
    "category": "General purpose",
    "gpuNum": 0,
    "hideHardwareSpecs": false,
    "memoryGiB": 192,
    "name": "ml.m5d.12xlarge",
    "vcpuNum": 48
   },
   {
    "_defaultOrder": 18,
    "_isFastLaunch": false,
    "category": "General purpose",
    "gpuNum": 0,
    "hideHardwareSpecs": false,
    "memoryGiB": 256,
    "name": "ml.m5d.16xlarge",
    "vcpuNum": 64
   },
   {
    "_defaultOrder": 19,
    "_isFastLaunch": false,
    "category": "General purpose",
    "gpuNum": 0,
    "hideHardwareSpecs": false,
    "memoryGiB": 384,
    "name": "ml.m5d.24xlarge",
    "vcpuNum": 96
   },
   {
    "_defaultOrder": 20,
    "_isFastLaunch": false,
    "category": "General purpose",
    "gpuNum": 0,
    "hideHardwareSpecs": true,
    "memoryGiB": 0,
    "name": "ml.geospatial.interactive",
    "supportedImageNames": [
     "sagemaker-geospatial-v1-0"
    ],
    "vcpuNum": 0
   },
   {
    "_defaultOrder": 21,
    "_isFastLaunch": true,
    "category": "Compute optimized",
    "gpuNum": 0,
    "hideHardwareSpecs": false,
    "memoryGiB": 4,
    "name": "ml.c5.large",
    "vcpuNum": 2
   },
   {
    "_defaultOrder": 22,
    "_isFastLaunch": false,
    "category": "Compute optimized",
    "gpuNum": 0,
    "hideHardwareSpecs": false,
    "memoryGiB": 8,
    "name": "ml.c5.xlarge",
    "vcpuNum": 4
   },
   {
    "_defaultOrder": 23,
    "_isFastLaunch": false,
    "category": "Compute optimized",
    "gpuNum": 0,
    "hideHardwareSpecs": false,
    "memoryGiB": 16,
    "name": "ml.c5.2xlarge",
    "vcpuNum": 8
   },
   {
    "_defaultOrder": 24,
    "_isFastLaunch": false,
    "category": "Compute optimized",
    "gpuNum": 0,
    "hideHardwareSpecs": false,
    "memoryGiB": 32,
    "name": "ml.c5.4xlarge",
    "vcpuNum": 16
   },
   {
    "_defaultOrder": 25,
    "_isFastLaunch": false,
    "category": "Compute optimized",
    "gpuNum": 0,
    "hideHardwareSpecs": false,
    "memoryGiB": 72,
    "name": "ml.c5.9xlarge",
    "vcpuNum": 36
   },
   {
    "_defaultOrder": 26,
    "_isFastLaunch": false,
    "category": "Compute optimized",
    "gpuNum": 0,
    "hideHardwareSpecs": false,
    "memoryGiB": 96,
    "name": "ml.c5.12xlarge",
    "vcpuNum": 48
   },
   {
    "_defaultOrder": 27,
    "_isFastLaunch": false,
    "category": "Compute optimized",
    "gpuNum": 0,
    "hideHardwareSpecs": false,
    "memoryGiB": 144,
    "name": "ml.c5.18xlarge",
    "vcpuNum": 72
   },
   {
    "_defaultOrder": 28,
    "_isFastLaunch": false,
    "category": "Compute optimized",
    "gpuNum": 0,
    "hideHardwareSpecs": false,
    "memoryGiB": 192,
    "name": "ml.c5.24xlarge",
    "vcpuNum": 96
   },
   {
    "_defaultOrder": 29,
    "_isFastLaunch": true,
    "category": "Accelerated computing",
    "gpuNum": 1,
    "hideHardwareSpecs": false,
    "memoryGiB": 16,
    "name": "ml.g4dn.xlarge",
    "vcpuNum": 4
   },
   {
    "_defaultOrder": 30,
    "_isFastLaunch": false,
    "category": "Accelerated computing",
    "gpuNum": 1,
    "hideHardwareSpecs": false,
    "memoryGiB": 32,
    "name": "ml.g4dn.2xlarge",
    "vcpuNum": 8
   },
   {
    "_defaultOrder": 31,
    "_isFastLaunch": false,
    "category": "Accelerated computing",
    "gpuNum": 1,
    "hideHardwareSpecs": false,
    "memoryGiB": 64,
    "name": "ml.g4dn.4xlarge",
    "vcpuNum": 16
   },
   {
    "_defaultOrder": 32,
    "_isFastLaunch": false,
    "category": "Accelerated computing",
    "gpuNum": 1,
    "hideHardwareSpecs": false,
    "memoryGiB": 128,
    "name": "ml.g4dn.8xlarge",
    "vcpuNum": 32
   },
   {
    "_defaultOrder": 33,
    "_isFastLaunch": false,
    "category": "Accelerated computing",
    "gpuNum": 4,
    "hideHardwareSpecs": false,
    "memoryGiB": 192,
    "name": "ml.g4dn.12xlarge",
    "vcpuNum": 48
   },
   {
    "_defaultOrder": 34,
    "_isFastLaunch": false,
    "category": "Accelerated computing",
    "gpuNum": 1,
    "hideHardwareSpecs": false,
    "memoryGiB": 256,
    "name": "ml.g4dn.16xlarge",
    "vcpuNum": 64
   },
   {
    "_defaultOrder": 35,
    "_isFastLaunch": false,
    "category": "Accelerated computing",
    "gpuNum": 1,
    "hideHardwareSpecs": false,
    "memoryGiB": 61,
    "name": "ml.p3.2xlarge",
    "vcpuNum": 8
   },
   {
    "_defaultOrder": 36,
    "_isFastLaunch": false,
    "category": "Accelerated computing",
    "gpuNum": 4,
    "hideHardwareSpecs": false,
    "memoryGiB": 244,
    "name": "ml.p3.8xlarge",
    "vcpuNum": 32
   },
   {
    "_defaultOrder": 37,
    "_isFastLaunch": false,
    "category": "Accelerated computing",
    "gpuNum": 8,
    "hideHardwareSpecs": false,
    "memoryGiB": 488,
    "name": "ml.p3.16xlarge",
    "vcpuNum": 64
   },
   {
    "_defaultOrder": 38,
    "_isFastLaunch": false,
    "category": "Accelerated computing",
    "gpuNum": 8,
    "hideHardwareSpecs": false,
    "memoryGiB": 768,
    "name": "ml.p3dn.24xlarge",
    "vcpuNum": 96
   },
   {
    "_defaultOrder": 39,
    "_isFastLaunch": false,
    "category": "Memory Optimized",
    "gpuNum": 0,
    "hideHardwareSpecs": false,
    "memoryGiB": 16,
    "name": "ml.r5.large",
    "vcpuNum": 2
   },
   {
    "_defaultOrder": 40,
    "_isFastLaunch": false,
    "category": "Memory Optimized",
    "gpuNum": 0,
    "hideHardwareSpecs": false,
    "memoryGiB": 32,
    "name": "ml.r5.xlarge",
    "vcpuNum": 4
   },
   {
    "_defaultOrder": 41,
    "_isFastLaunch": false,
    "category": "Memory Optimized",
    "gpuNum": 0,
    "hideHardwareSpecs": false,
    "memoryGiB": 64,
    "name": "ml.r5.2xlarge",
    "vcpuNum": 8
   },
   {
    "_defaultOrder": 42,
    "_isFastLaunch": false,
    "category": "Memory Optimized",
    "gpuNum": 0,
    "hideHardwareSpecs": false,
    "memoryGiB": 128,
    "name": "ml.r5.4xlarge",
    "vcpuNum": 16
   },
   {
    "_defaultOrder": 43,
    "_isFastLaunch": false,
    "category": "Memory Optimized",
    "gpuNum": 0,
    "hideHardwareSpecs": false,
    "memoryGiB": 256,
    "name": "ml.r5.8xlarge",
    "vcpuNum": 32
   },
   {
    "_defaultOrder": 44,
    "_isFastLaunch": false,
    "category": "Memory Optimized",
    "gpuNum": 0,
    "hideHardwareSpecs": false,
    "memoryGiB": 384,
    "name": "ml.r5.12xlarge",
    "vcpuNum": 48
   },
   {
    "_defaultOrder": 45,
    "_isFastLaunch": false,
    "category": "Memory Optimized",
    "gpuNum": 0,
    "hideHardwareSpecs": false,
    "memoryGiB": 512,
    "name": "ml.r5.16xlarge",
    "vcpuNum": 64
   },
   {
    "_defaultOrder": 46,
    "_isFastLaunch": false,
    "category": "Memory Optimized",
    "gpuNum": 0,
    "hideHardwareSpecs": false,
    "memoryGiB": 768,
    "name": "ml.r5.24xlarge",
    "vcpuNum": 96
   },
   {
    "_defaultOrder": 47,
    "_isFastLaunch": false,
    "category": "Accelerated computing",
    "gpuNum": 1,
    "hideHardwareSpecs": false,
    "memoryGiB": 16,
    "name": "ml.g5.xlarge",
    "vcpuNum": 4
   },
   {
    "_defaultOrder": 48,
    "_isFastLaunch": false,
    "category": "Accelerated computing",
    "gpuNum": 1,
    "hideHardwareSpecs": false,
    "memoryGiB": 32,
    "name": "ml.g5.2xlarge",
    "vcpuNum": 8
   },
   {
    "_defaultOrder": 49,
    "_isFastLaunch": false,
    "category": "Accelerated computing",
    "gpuNum": 1,
    "hideHardwareSpecs": false,
    "memoryGiB": 64,
    "name": "ml.g5.4xlarge",
    "vcpuNum": 16
   },
   {
    "_defaultOrder": 50,
    "_isFastLaunch": false,
    "category": "Accelerated computing",
    "gpuNum": 1,
    "hideHardwareSpecs": false,
    "memoryGiB": 128,
    "name": "ml.g5.8xlarge",
    "vcpuNum": 32
   },
   {
    "_defaultOrder": 51,
    "_isFastLaunch": false,
    "category": "Accelerated computing",
    "gpuNum": 1,
    "hideHardwareSpecs": false,
    "memoryGiB": 256,
    "name": "ml.g5.16xlarge",
    "vcpuNum": 64
   },
   {
    "_defaultOrder": 52,
    "_isFastLaunch": false,
    "category": "Accelerated computing",
    "gpuNum": 4,
    "hideHardwareSpecs": false,
    "memoryGiB": 192,
    "name": "ml.g5.12xlarge",
    "vcpuNum": 48
   },
   {
    "_defaultOrder": 53,
    "_isFastLaunch": false,
    "category": "Accelerated computing",
    "gpuNum": 4,
    "hideHardwareSpecs": false,
    "memoryGiB": 384,
    "name": "ml.g5.24xlarge",
    "vcpuNum": 96
   },
   {
    "_defaultOrder": 54,
    "_isFastLaunch": false,
    "category": "Accelerated computing",
    "gpuNum": 8,
    "hideHardwareSpecs": false,
    "memoryGiB": 768,
    "name": "ml.g5.48xlarge",
    "vcpuNum": 192
   },
   {
    "_defaultOrder": 55,
    "_isFastLaunch": false,
    "category": "Accelerated computing",
    "gpuNum": 8,
    "hideHardwareSpecs": false,
    "memoryGiB": 1152,
    "name": "ml.p4d.24xlarge",
    "vcpuNum": 96
   },
   {
    "_defaultOrder": 56,
    "_isFastLaunch": false,
    "category": "Accelerated computing",
    "gpuNum": 8,
    "hideHardwareSpecs": false,
    "memoryGiB": 1152,
    "name": "ml.p4de.24xlarge",
    "vcpuNum": 96
   },
   {
    "_defaultOrder": 57,
    "_isFastLaunch": false,
    "category": "Accelerated computing",
    "gpuNum": 0,
    "hideHardwareSpecs": false,
    "memoryGiB": 32,
    "name": "ml.trn1.2xlarge",
    "vcpuNum": 8
   },
   {
    "_defaultOrder": 58,
    "_isFastLaunch": false,
    "category": "Accelerated computing",
    "gpuNum": 0,
    "hideHardwareSpecs": false,
    "memoryGiB": 512,
    "name": "ml.trn1.32xlarge",
    "vcpuNum": 128
   },
   {
    "_defaultOrder": 59,
    "_isFastLaunch": false,
    "category": "Accelerated computing",
    "gpuNum": 0,
    "hideHardwareSpecs": false,
    "memoryGiB": 512,
    "name": "ml.trn1n.32xlarge",
    "vcpuNum": 128
   }
  ],
  "instance_type": "ml.t3.medium",
  "kernelspec": {
   "display_name": "Python 3 (Data Science 3.0)",
   "language": "python",
   "name": "python3__SAGEMAKER_INTERNAL__arn:aws:sagemaker:us-east-1:081325390199:image/sagemaker-data-science-310-v1"
  },
  "language_info": {
   "codemirror_mode": {
    "name": "ipython",
    "version": 3
   },
   "file_extension": ".py",
   "mimetype": "text/x-python",
   "name": "python",
   "nbconvert_exporter": "python",
   "pygments_lexer": "ipython3",
   "version": "3.10.6"
  }
 },
 "nbformat": 4,
 "nbformat_minor": 5
}
