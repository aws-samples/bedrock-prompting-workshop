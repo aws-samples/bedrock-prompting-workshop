{
 "cells": [
  {
   "cell_type": "markdown",
   "id": "b010b61e-a569-43e2-97cd-e9798e79905d",
   "metadata": {},
   "source": [
    "# **Chapter 3: Assigning Roles (Role Prompting)**\n",
    "\n",
    "---\n",
    "**Lesson:**\n",
    "\n",
    "Continuing on the theme of Claude having no context aside from what you say, it's sometimes important to prompt Claude to inhabit a specific role (including all necessary context). This is also known as role prompting. The more detail to the role context, the better.\n",
    "\n",
    "Priming Claude with a role can improve Claude's performance in a variety of fields, from writing to coding to summarizing. It's like how humans can sometimes be helped when told to \"\"think like a ______\"\".\" \n",
    "\n",
    "---"
   ]
  },
  {
   "cell_type": "markdown",
   "id": "5062f18e-2715-463a-9db5-ca7f3f749f05",
   "metadata": {},
   "source": [
    "First we will setup our dependencies"
   ]
  },
  {
   "cell_type": "code",
   "execution_count": 2,
   "id": "352156f5-8b7e-4d61-b93a-c04041875177",
   "metadata": {
    "tags": []
   },
   "outputs": [],
   "source": [
    "%%capture\n",
    "#Cell [1]\n",
    "\n",
    "#Install libraries \n",
    "%pip install --no-build-isolation --force-reinstall \\\n",
    "    \"boto3>=1.28.57\" \\\n",
    "    \"awscli>=1.29.57\" \\\n",
    "    \"botocore>=1.31.57\"\n",
    "\n",
    "#Import libraries\n",
    "import json\n",
    "import os\n",
    "import sys\n",
    "import boto3\n",
    "import botocore\n",
    "\n",
    "#Set up Bedrock runtime client\n",
    "bedrock_runtime = boto3.client('bedrock-runtime')\n",
    "boto3_bedrock = boto3.client('bedrock')\n",
    "\n",
    "#Set up ModelID (Claude 3 Sonnet in this case)\n",
    "modelId = \"anthropic.claude-3-sonnet-20240229-v1:0\""
   ]
  },
  {
   "cell_type": "code",
   "execution_count": 3,
   "id": "8e4c7527-b293-4650-97e5-b5b71db74a55",
   "metadata": {
    "tags": []
   },
   "outputs": [],
   "source": [
    "#Cell [2]\n",
    "\n",
    "#Setup Model invocation function \n",
    "#Code modified from documentation: https://docs.aws.amazon.com/bedrock/latest/userguide/bedrock-runtime_example_bedrock-runtime_Claude3_Text_section.html\n",
    "def get_response(prompt_data):\n",
    "    response = bedrock_runtime.invoke_model(\n",
    "                    modelId=modelId,\n",
    "                    body=json.dumps(\n",
    "                        {\n",
    "                            \"anthropic_version\": \"bedrock-2023-05-31\",\n",
    "                            \"max_tokens\": 1024,\n",
    "                            \"messages\": [\n",
    "                                {\n",
    "                                    \"role\": \"user\",\n",
    "                                    \"content\": [{\"type\": \"text\", \"text\": prompt_data}],\n",
    "                                }\n",
    "                            ],\n",
    "                        }\n",
    "                    ),\n",
    "                )\n",
    "    result = json.loads(response.get(\"body\").read())\n",
    "    response = result.get(\"content\", [])[0]['text']\n",
    "    return response"
   ]
  },
  {
   "cell_type": "markdown",
   "id": "5502384f-e01e-4249-824c-5825d67f13ea",
   "metadata": {},
   "source": [
    "# **Examples:**\n",
    "\n",
    "In the example below (3.1), we see that without priming, Claude can provide a decent if somewhat disjointed answer when asked to explain the impact of greenhouse gases. \n",
    "\n",
    "However, when we prime Claude to be a highly experienced climate scientist, Claude's response becomes more organized and detailed (3.2). \n",
    "\n",
    "> *Note: A bonus technique you can use is to provide Claude context on its intended audience. Below, we could have tweaked the prompt to also tell Claude whom it should be speaking to. \"Explain the impact of greenhouse gasses\" produces very different results in terms of tone from \"Explain the impact of greenhouse gasses to a third grade audience.\"*"
   ]
  },
  {
   "cell_type": "markdown",
   "id": "d1d4ef95-74f8-4821-9af6-985608ad1fba",
   "metadata": {
    "tags": []
   },
   "source": [
    "**Example 3.1 - Greenhouse**"
   ]
  },
  {
   "cell_type": "code",
   "execution_count": 4,
   "id": "251a59df-b2ca-4cfd-a017-a7698b2d1d94",
   "metadata": {
    "tags": []
   },
   "outputs": [
    {
     "name": "stdout",
     "output_type": "stream",
     "text": [
      "Greenhouse gases play a significant role in influencing the Earth's climate and have a major impact on the planet. Here's an explanation of the impact of greenhouse gases:\n",
      "\n",
      "1. Greenhouse effect: Greenhouse gases, such as carbon dioxide (CO2), methane (CH4), nitrous oxide (N2O), and others, trap heat from the sun in the Earth's atmosphere, causing a greenhouse effect. This natural phenomenon is essential for maintaining a habitable temperature on Earth. However, excessive concentrations of these gases can lead to an enhanced greenhouse effect, resulting in global warming.\n",
      "\n",
      "2. Global warming: The increasing levels of greenhouse gases, primarily due to human activities like burning fossil fuels, deforestation, and certain agricultural practices, have led to a rise in global average temperatures. This warming trend has been observed over the past century, with the last few decades being the warmest on record.\n",
      "\n",
      "3. Climate change: Global warming is driving changes in the Earth's climate system, leading to various impacts:\n",
      "   a. Rising sea levels: Warmer temperatures are causing glaciers and ice sheets to melt, contributing to sea-level rise, which can lead to coastal flooding and erosion.\n",
      "   b. Extreme weather events: Climate change is increasing the frequency and intensity of extreme weather events, such as heatwaves, droughts, hurricanes, and heavy precipitation events.\n",
      "   c. Ecosystem disruptions: Changes in temperature and precipitation patterns are affecting the distribution and behavior of plant and animal species, potentially leading to biodiversity loss and ecosystem imbalances.\n",
      "   d. Agricultural impacts: Climate change can affect crop yields, water availability, and the spread of pests and diseases, posing challenges for food security.\n",
      "\n",
      "4. Positive feedback loops: Some processes associated with climate change can create positive feedback loops, further amplifying the warming effect. For example, melting sea ice and glaciers reduce the Earth's surface reflectivity (albedo), causing more heat absorption, which leads to further melting.\n",
      "\n",
      "5. Long-term consequences: If greenhouse gas emissions continue to rise unabated, the potential long-term consequences could be severe, including widespread coastal flooding, water scarcity, food insecurity, and the displacement of human populations due to climate-related impacts.\n",
      "\n",
      "Mitigating the impact of greenhouse gases requires a concerted global effort to reduce emissions through various strategies, such as transitioning to renewable energy sources, improving energy efficiency, protecting and restoring forests, and promoting sustainable practices in agriculture and other sectors.\n"
     ]
    }
   ],
   "source": [
    "prompt_data = \"\"\"Human: Please explain the impact of greenhouse gases on the planet.\n",
    "\n",
    "Assistant:\n",
    "\"\"\"\n",
    "\n",
    "# Process and print the response\n",
    "response = get_response(prompt_data)\n",
    "print(response)"
   ]
  },
  {
   "cell_type": "markdown",
   "id": "56845631-6bf2-4bc8-ae8c-3b61024b389a",
   "metadata": {},
   "source": [
    "**Example 3.2 - Organized greenhouse**\t\t"
   ]
  },
  {
   "cell_type": "code",
   "execution_count": 5,
   "id": "1c504697-a819-49c2-848a-03d8d7223b5d",
   "metadata": {
    "tags": []
   },
   "outputs": [
    {
     "name": "stdout",
     "output_type": "stream",
     "text": [
      "Greenhouse gases play a crucial role in regulating Earth's temperature and climate. They absorb and re-emit infrared radiation, trapping heat in the atmosphere. The primary greenhouse gases are:\n",
      "\n",
      "1. Carbon dioxide (CO2): Accounts for approximately 76% of total greenhouse gas emissions from human activities. Burning fossil fuels, deforestation, and industrial processes contribute significantly to increased CO2 levels.\n",
      "\n",
      "2. Methane (CH4): Accounts for about 16% of greenhouse gas emissions. Major sources include agriculture (livestock, rice cultivation), fossil fuel extraction, and waste management.\n",
      "\n",
      "3. Nitrous oxide (N2O): Accounts for around 6% of emissions. Sources include agricultural activities, fossil fuel combustion, and industrial processes.\n",
      "\n",
      "4. Fluorinated gases: These include hydrofluorocarbons (HFCs), perfluorocarbons (PFCs), sulfur hexafluoride (SF6), and nitrogen trifluoride (NF3). Though present in smaller quantities, they are potent greenhouse gases.\n",
      "\n",
      "Since the Industrial Revolution, human activities have significantly increased the atmospheric concentration of greenhouse gases. For example, CO2 levels have risen from pre-industrial levels of about 280 parts per million (ppm) to over 415 ppm in 2022 (NOAA data).\n",
      "\n",
      "The increased greenhouse gas concentrations have led to an enhanced greenhouse effect, trapping more heat in the Earth's atmosphere. This has resulted in global average temperature rise of approximately 1.1°C (2°F) above pre-industrial levels (IPCC AR6 report, 2021). The consequences include:\n",
      "\n",
      "1. Rising global temperatures and more frequent heat waves.\n",
      "2. Sea level rise due to thermal expansion of water and melting of glaciers and ice sheets.\n",
      "3. Changes in precipitation patterns, leading to more severe droughts and floods.\n",
      "4. Increased frequency and intensity of extreme weather events, such as hurricanes and wildfires.\n",
      "5. Impacts on ecosystems, biodiversity, and human health.\n",
      "\n",
      "Mitigating greenhouse gas emissions through transitioning to renewable energy sources, improving energy efficiency, and promoting sustainable practices is crucial to address the impacts of climate change.\n"
     ]
    }
   ],
   "source": [
    "#Prompt with role assignment\n",
    "prompt_data = \"\"\"\n",
    "ou are a highly experienced climate scientist. You respond in a succinct and scientific manner with multiple data points.\n",
    "\n",
    "Human:  Please explain the impact of greenhouse gases.\n",
    "\n",
    "Assistant:\n",
    "\"\"\"\n",
    "\n",
    "# Process and print the response\n",
    "response = get_response(prompt_data)\n",
    "print(response)"
   ]
  },
  {
   "cell_type": "markdown",
   "id": "24323c14-38c0-47ea-a657-21f8f2b8cbcc",
   "metadata": {},
   "source": [
    "**Example 3.3 - Logical?**\n",
    "\n",
    "Here's another example. Let's ask Claude to solve this logical problem"
   ]
  },
  {
   "cell_type": "code",
   "execution_count": 6,
   "id": "8f8daf00-0356-4e06-853b-178bba21d6a2",
   "metadata": {
    "tags": []
   },
   "outputs": [
    {
     "name": "stdout",
     "output_type": "stream",
     "text": [
      "To determine if a married person is looking at an unmarried person, we need to consider the two possibilities based on the given information:\n",
      "\n",
      "1. If Anne is married:\n",
      "In this case, Jack (who is married) is looking at Anne (who is married). Therefore, no married person is looking at an unmarried person.\n",
      "\n",
      "2. If Anne is not married:\n",
      "In this case, Jack (who is married) is looking at Anne (who is not married). Therefore, a married person (Jack) is looking at an unmarried person (Anne).\n",
      "\n",
      "Since we don't know if Anne is married or not, we cannot definitively conclude whether a married person is looking at an unmarried person or not.\n",
      "\n",
      "Therefore, the answer is:\n",
      "It is possible that a married person is looking at an unmarried person, but it is also possible that no married person is looking at an unmarried person.\n"
     ]
    }
   ],
   "source": [
    "#Prompt without role assignment\n",
    "\n",
    "prompt_data = \"\"\"\n",
    "Human: Jack is looking at Anne. Anne is looking at George. Jack is married, George is not, and we don't know if Anne is married. Is a married person looking at an unmarried person?\n",
    "\n",
    "Assistant:\n",
    "\"\"\"\n",
    "\n",
    "# Process and print the response\n",
    "response = get_response(prompt_data)\n",
    "print(response)"
   ]
  },
  {
   "cell_type": "markdown",
   "id": "cf73474f-631e-4813-b06d-e647318f7da3",
   "metadata": {},
   "source": [
    "**Example 3.4 - Logical!**\n",
    "\n",
    "The answer above is surface level reasoning based on the information given. Let us give Claude a role as a \"Logic Bot\" and see how it's response changes"
   ]
  },
  {
   "cell_type": "code",
   "execution_count": 7,
   "id": "59e3f354-a580-407c-8cb5-212a9bf67d90",
   "metadata": {
    "tags": []
   },
   "outputs": [
    {
     "name": "stdout",
     "output_type": "stream",
     "text": [
      "To solve this problem, we need to consider all the possibilities based on the given information and determine if there exists a scenario where a married person is looking at an unmarried person.\n",
      "\n",
      "Given information:\n",
      "- Jack is married.\n",
      "- George is not married.\n",
      "- We don't know if Anne is married or not.\n",
      "- Jack is looking at Anne.\n",
      "- Anne is looking at George.\n",
      "\n",
      "Possibility 1: Anne is married.\n",
      "In this case, a married person (Jack) is looking at a married person (Anne), and Anne is looking at an unmarried person (George). Therefore, a married person is looking at an unmarried person.\n",
      "\n",
      "Possibility 2: Anne is not married.\n",
      "In this case, a married person (Jack) is looking at an unmarried person (Anne), and Anne is looking at an unmarried person (George). Therefore, a married person is looking at an unmarried person.\n",
      "\n",
      "Since in both possibilities, there exists a scenario where a married person is looking at an unmarried person, the answer is yes, a married person is looking at an unmarried person.\n"
     ]
    }
   ],
   "source": [
    "#Prompt with role assignment\n",
    "\n",
    "prompt_data = \"\"\"\n",
    "\n",
    "You are a logic bot designed to answer complex logic problems. You think of all possibilities when solving problems\n",
    "\n",
    "Human: \n",
    "Jack is looking at Anne. Anne is looking at George. Jack is married, George is not, and we don't know if Anne is married. Is a married person looking at an unmarried person?\n",
    "\n",
    "Assistant:\n",
    "\"\"\"\n",
    "\n",
    "# Process and print the response\n",
    "response = get_response(prompt_data)\n",
    "print(response)"
   ]
  },
  {
   "cell_type": "markdown",
   "id": "8b39fef1-843f-4f29-a2dc-425b7eea9c93",
   "metadata": {},
   "source": [
    "# **Exercise**\n",
    "\n",
    "The following exercise will need you to manipulate the prompt to get the desired output"
   ]
  },
  {
   "cell_type": "markdown",
   "id": "df73c912-13d3-4e06-a7ac-a5cd46e9def3",
   "metadata": {},
   "source": [
    "**Exercise 3.1 - I do not like vegetables**\n",
    "\n",
    "If you run the prompt below you will get a step-by-step list on how to grow zuccinis. \n",
    "\n",
    "Adapt the prompt below by giving Claude a role, so it refuses to tell you how to grow zuccinis. \n",
    "\n",
    "> *\"Note: XML tags (<> to open, </> to close) are a common and highly effective way to organize information within a prompt. Sometimes it also helps to ask Claude to think about its answer first before responding. \n",
    "We will cover these two topics in greater depth in Chapters 4 and 6 respectively.\"*"
   ]
  },
  {
   "cell_type": "code",
   "execution_count": 12,
   "id": "d14da2a8-7f0b-4dfe-91f3-fd26de069b6e",
   "metadata": {
    "tags": []
   },
   "outputs": [
    {
     "name": "stdout",
     "output_type": "stream",
     "text": [
      "Here are some tips for growing zucchini successfully:\n",
      "\n",
      "1. Choose a sunny location. Zucchini plants need at least 6-8 hours of direct sunlight per day.\n",
      "\n",
      "2. Prepare the soil. Zucchini thrives in well-draining, nutrient-rich soil. Mix in compost or aged manure before planting to improve soil fertility.\n",
      "\n",
      "3. Plant after the last frost. Zucchini is a warm-weather crop and should be planted after the danger of frost has passed in your area.\n",
      "\n",
      "4. Space plants properly. Zucchini needs ample room to grow. Plant seeds or transplants in hills or rows, spacing them about 3-4 feet apart.\n",
      "\n",
      "5. Water consistently. Zucchini plants need about 1-2 inches of water per week. Water at the soil level and avoid getting the leaves wet to prevent fungal diseases.\n",
      "\n",
      "6. Apply mulch. Spread a 2-4 inch layer of mulch around the plants to retain moisture and suppress weeds.\n",
      "\n",
      "7. Fertilize regularly. Zucchini is a heavy feeder. Use a balanced vegetable fertilizer or compost tea every 2-3 weeks.\n",
      "\n",
      "8. Control pests and diseases. Monitor for common pests like squash bugs, vine borers, and powdery mildew. Take action promptly to prevent damage.\n",
      "\n",
      "9. Harvest frequently. Zucchini grows quickly. Check plants every 1-2 days and harvest when fruits are 6-8 inches long for best quality.\n",
      "\n",
      "With proper care and attention, you can enjoy a bountiful zucchini harvest throughout the growing season.\n"
     ]
    }
   ],
   "source": [
    "prompt_data = \"\"\"\n",
    "\n",
    "Human: How do I grow zuccinis\n",
    "\n",
    "Assistant:\n",
    "\"\"\"\n",
    "\n",
    "# Process and print the response\n",
    "response = get_response(prompt_data)\n",
    "print(response)"
   ]
  },
  {
   "cell_type": "markdown",
   "id": "9e646003-3930-4d64-a340-1b56bf5b4eb6",
   "metadata": {},
   "source": [
    "# Chapter 3 - END."
   ]
  }
 ],
 "metadata": {
  "availableInstances": [
   {
    "_defaultOrder": 0,
    "_isFastLaunch": true,
    "category": "General purpose",
    "gpuNum": 0,
    "hideHardwareSpecs": false,
    "memoryGiB": 4,
    "name": "ml.t3.medium",
    "vcpuNum": 2
   },
   {
    "_defaultOrder": 1,
    "_isFastLaunch": false,
    "category": "General purpose",
    "gpuNum": 0,
    "hideHardwareSpecs": false,
    "memoryGiB": 8,
    "name": "ml.t3.large",
    "vcpuNum": 2
   },
   {
    "_defaultOrder": 2,
    "_isFastLaunch": false,
    "category": "General purpose",
    "gpuNum": 0,
    "hideHardwareSpecs": false,
    "memoryGiB": 16,
    "name": "ml.t3.xlarge",
    "vcpuNum": 4
   },
   {
    "_defaultOrder": 3,
    "_isFastLaunch": false,
    "category": "General purpose",
    "gpuNum": 0,
    "hideHardwareSpecs": false,
    "memoryGiB": 32,
    "name": "ml.t3.2xlarge",
    "vcpuNum": 8
   },
   {
    "_defaultOrder": 4,
    "_isFastLaunch": true,
    "category": "General purpose",
    "gpuNum": 0,
    "hideHardwareSpecs": false,
    "memoryGiB": 8,
    "name": "ml.m5.large",
    "vcpuNum": 2
   },
   {
    "_defaultOrder": 5,
    "_isFastLaunch": false,
    "category": "General purpose",
    "gpuNum": 0,
    "hideHardwareSpecs": false,
    "memoryGiB": 16,
    "name": "ml.m5.xlarge",
    "vcpuNum": 4
   },
   {
    "_defaultOrder": 6,
    "_isFastLaunch": false,
    "category": "General purpose",
    "gpuNum": 0,
    "hideHardwareSpecs": false,
    "memoryGiB": 32,
    "name": "ml.m5.2xlarge",
    "vcpuNum": 8
   },
   {
    "_defaultOrder": 7,
    "_isFastLaunch": false,
    "category": "General purpose",
    "gpuNum": 0,
    "hideHardwareSpecs": false,
    "memoryGiB": 64,
    "name": "ml.m5.4xlarge",
    "vcpuNum": 16
   },
   {
    "_defaultOrder": 8,
    "_isFastLaunch": false,
    "category": "General purpose",
    "gpuNum": 0,
    "hideHardwareSpecs": false,
    "memoryGiB": 128,
    "name": "ml.m5.8xlarge",
    "vcpuNum": 32
   },
   {
    "_defaultOrder": 9,
    "_isFastLaunch": false,
    "category": "General purpose",
    "gpuNum": 0,
    "hideHardwareSpecs": false,
    "memoryGiB": 192,
    "name": "ml.m5.12xlarge",
    "vcpuNum": 48
   },
   {
    "_defaultOrder": 10,
    "_isFastLaunch": false,
    "category": "General purpose",
    "gpuNum": 0,
    "hideHardwareSpecs": false,
    "memoryGiB": 256,
    "name": "ml.m5.16xlarge",
    "vcpuNum": 64
   },
   {
    "_defaultOrder": 11,
    "_isFastLaunch": false,
    "category": "General purpose",
    "gpuNum": 0,
    "hideHardwareSpecs": false,
    "memoryGiB": 384,
    "name": "ml.m5.24xlarge",
    "vcpuNum": 96
   },
   {
    "_defaultOrder": 12,
    "_isFastLaunch": false,
    "category": "General purpose",
    "gpuNum": 0,
    "hideHardwareSpecs": false,
    "memoryGiB": 8,
    "name": "ml.m5d.large",
    "vcpuNum": 2
   },
   {
    "_defaultOrder": 13,
    "_isFastLaunch": false,
    "category": "General purpose",
    "gpuNum": 0,
    "hideHardwareSpecs": false,
    "memoryGiB": 16,
    "name": "ml.m5d.xlarge",
    "vcpuNum": 4
   },
   {
    "_defaultOrder": 14,
    "_isFastLaunch": false,
    "category": "General purpose",
    "gpuNum": 0,
    "hideHardwareSpecs": false,
    "memoryGiB": 32,
    "name": "ml.m5d.2xlarge",
    "vcpuNum": 8
   },
   {
    "_defaultOrder": 15,
    "_isFastLaunch": false,
    "category": "General purpose",
    "gpuNum": 0,
    "hideHardwareSpecs": false,
    "memoryGiB": 64,
    "name": "ml.m5d.4xlarge",
    "vcpuNum": 16
   },
   {
    "_defaultOrder": 16,
    "_isFastLaunch": false,
    "category": "General purpose",
    "gpuNum": 0,
    "hideHardwareSpecs": false,
    "memoryGiB": 128,
    "name": "ml.m5d.8xlarge",
    "vcpuNum": 32
   },
   {
    "_defaultOrder": 17,
    "_isFastLaunch": false,
    "category": "General purpose",
    "gpuNum": 0,
    "hideHardwareSpecs": false,
    "memoryGiB": 192,
    "name": "ml.m5d.12xlarge",
    "vcpuNum": 48
   },
   {
    "_defaultOrder": 18,
    "_isFastLaunch": false,
    "category": "General purpose",
    "gpuNum": 0,
    "hideHardwareSpecs": false,
    "memoryGiB": 256,
    "name": "ml.m5d.16xlarge",
    "vcpuNum": 64
   },
   {
    "_defaultOrder": 19,
    "_isFastLaunch": false,
    "category": "General purpose",
    "gpuNum": 0,
    "hideHardwareSpecs": false,
    "memoryGiB": 384,
    "name": "ml.m5d.24xlarge",
    "vcpuNum": 96
   },
   {
    "_defaultOrder": 20,
    "_isFastLaunch": false,
    "category": "General purpose",
    "gpuNum": 0,
    "hideHardwareSpecs": true,
    "memoryGiB": 0,
    "name": "ml.geospatial.interactive",
    "supportedImageNames": [
     "sagemaker-geospatial-v1-0"
    ],
    "vcpuNum": 0
   },
   {
    "_defaultOrder": 21,
    "_isFastLaunch": true,
    "category": "Compute optimized",
    "gpuNum": 0,
    "hideHardwareSpecs": false,
    "memoryGiB": 4,
    "name": "ml.c5.large",
    "vcpuNum": 2
   },
   {
    "_defaultOrder": 22,
    "_isFastLaunch": false,
    "category": "Compute optimized",
    "gpuNum": 0,
    "hideHardwareSpecs": false,
    "memoryGiB": 8,
    "name": "ml.c5.xlarge",
    "vcpuNum": 4
   },
   {
    "_defaultOrder": 23,
    "_isFastLaunch": false,
    "category": "Compute optimized",
    "gpuNum": 0,
    "hideHardwareSpecs": false,
    "memoryGiB": 16,
    "name": "ml.c5.2xlarge",
    "vcpuNum": 8
   },
   {
    "_defaultOrder": 24,
    "_isFastLaunch": false,
    "category": "Compute optimized",
    "gpuNum": 0,
    "hideHardwareSpecs": false,
    "memoryGiB": 32,
    "name": "ml.c5.4xlarge",
    "vcpuNum": 16
   },
   {
    "_defaultOrder": 25,
    "_isFastLaunch": false,
    "category": "Compute optimized",
    "gpuNum": 0,
    "hideHardwareSpecs": false,
    "memoryGiB": 72,
    "name": "ml.c5.9xlarge",
    "vcpuNum": 36
   },
   {
    "_defaultOrder": 26,
    "_isFastLaunch": false,
    "category": "Compute optimized",
    "gpuNum": 0,
    "hideHardwareSpecs": false,
    "memoryGiB": 96,
    "name": "ml.c5.12xlarge",
    "vcpuNum": 48
   },
   {
    "_defaultOrder": 27,
    "_isFastLaunch": false,
    "category": "Compute optimized",
    "gpuNum": 0,
    "hideHardwareSpecs": false,
    "memoryGiB": 144,
    "name": "ml.c5.18xlarge",
    "vcpuNum": 72
   },
   {
    "_defaultOrder": 28,
    "_isFastLaunch": false,
    "category": "Compute optimized",
    "gpuNum": 0,
    "hideHardwareSpecs": false,
    "memoryGiB": 192,
    "name": "ml.c5.24xlarge",
    "vcpuNum": 96
   },
   {
    "_defaultOrder": 29,
    "_isFastLaunch": true,
    "category": "Accelerated computing",
    "gpuNum": 1,
    "hideHardwareSpecs": false,
    "memoryGiB": 16,
    "name": "ml.g4dn.xlarge",
    "vcpuNum": 4
   },
   {
    "_defaultOrder": 30,
    "_isFastLaunch": false,
    "category": "Accelerated computing",
    "gpuNum": 1,
    "hideHardwareSpecs": false,
    "memoryGiB": 32,
    "name": "ml.g4dn.2xlarge",
    "vcpuNum": 8
   },
   {
    "_defaultOrder": 31,
    "_isFastLaunch": false,
    "category": "Accelerated computing",
    "gpuNum": 1,
    "hideHardwareSpecs": false,
    "memoryGiB": 64,
    "name": "ml.g4dn.4xlarge",
    "vcpuNum": 16
   },
   {
    "_defaultOrder": 32,
    "_isFastLaunch": false,
    "category": "Accelerated computing",
    "gpuNum": 1,
    "hideHardwareSpecs": false,
    "memoryGiB": 128,
    "name": "ml.g4dn.8xlarge",
    "vcpuNum": 32
   },
   {
    "_defaultOrder": 33,
    "_isFastLaunch": false,
    "category": "Accelerated computing",
    "gpuNum": 4,
    "hideHardwareSpecs": false,
    "memoryGiB": 192,
    "name": "ml.g4dn.12xlarge",
    "vcpuNum": 48
   },
   {
    "_defaultOrder": 34,
    "_isFastLaunch": false,
    "category": "Accelerated computing",
    "gpuNum": 1,
    "hideHardwareSpecs": false,
    "memoryGiB": 256,
    "name": "ml.g4dn.16xlarge",
    "vcpuNum": 64
   },
   {
    "_defaultOrder": 35,
    "_isFastLaunch": false,
    "category": "Accelerated computing",
    "gpuNum": 1,
    "hideHardwareSpecs": false,
    "memoryGiB": 61,
    "name": "ml.p3.2xlarge",
    "vcpuNum": 8
   },
   {
    "_defaultOrder": 36,
    "_isFastLaunch": false,
    "category": "Accelerated computing",
    "gpuNum": 4,
    "hideHardwareSpecs": false,
    "memoryGiB": 244,
    "name": "ml.p3.8xlarge",
    "vcpuNum": 32
   },
   {
    "_defaultOrder": 37,
    "_isFastLaunch": false,
    "category": "Accelerated computing",
    "gpuNum": 8,
    "hideHardwareSpecs": false,
    "memoryGiB": 488,
    "name": "ml.p3.16xlarge",
    "vcpuNum": 64
   },
   {
    "_defaultOrder": 38,
    "_isFastLaunch": false,
    "category": "Accelerated computing",
    "gpuNum": 8,
    "hideHardwareSpecs": false,
    "memoryGiB": 768,
    "name": "ml.p3dn.24xlarge",
    "vcpuNum": 96
   },
   {
    "_defaultOrder": 39,
    "_isFastLaunch": false,
    "category": "Memory Optimized",
    "gpuNum": 0,
    "hideHardwareSpecs": false,
    "memoryGiB": 16,
    "name": "ml.r5.large",
    "vcpuNum": 2
   },
   {
    "_defaultOrder": 40,
    "_isFastLaunch": false,
    "category": "Memory Optimized",
    "gpuNum": 0,
    "hideHardwareSpecs": false,
    "memoryGiB": 32,
    "name": "ml.r5.xlarge",
    "vcpuNum": 4
   },
   {
    "_defaultOrder": 41,
    "_isFastLaunch": false,
    "category": "Memory Optimized",
    "gpuNum": 0,
    "hideHardwareSpecs": false,
    "memoryGiB": 64,
    "name": "ml.r5.2xlarge",
    "vcpuNum": 8
   },
   {
    "_defaultOrder": 42,
    "_isFastLaunch": false,
    "category": "Memory Optimized",
    "gpuNum": 0,
    "hideHardwareSpecs": false,
    "memoryGiB": 128,
    "name": "ml.r5.4xlarge",
    "vcpuNum": 16
   },
   {
    "_defaultOrder": 43,
    "_isFastLaunch": false,
    "category": "Memory Optimized",
    "gpuNum": 0,
    "hideHardwareSpecs": false,
    "memoryGiB": 256,
    "name": "ml.r5.8xlarge",
    "vcpuNum": 32
   },
   {
    "_defaultOrder": 44,
    "_isFastLaunch": false,
    "category": "Memory Optimized",
    "gpuNum": 0,
    "hideHardwareSpecs": false,
    "memoryGiB": 384,
    "name": "ml.r5.12xlarge",
    "vcpuNum": 48
   },
   {
    "_defaultOrder": 45,
    "_isFastLaunch": false,
    "category": "Memory Optimized",
    "gpuNum": 0,
    "hideHardwareSpecs": false,
    "memoryGiB": 512,
    "name": "ml.r5.16xlarge",
    "vcpuNum": 64
   },
   {
    "_defaultOrder": 46,
    "_isFastLaunch": false,
    "category": "Memory Optimized",
    "gpuNum": 0,
    "hideHardwareSpecs": false,
    "memoryGiB": 768,
    "name": "ml.r5.24xlarge",
    "vcpuNum": 96
   },
   {
    "_defaultOrder": 47,
    "_isFastLaunch": false,
    "category": "Accelerated computing",
    "gpuNum": 1,
    "hideHardwareSpecs": false,
    "memoryGiB": 16,
    "name": "ml.g5.xlarge",
    "vcpuNum": 4
   },
   {
    "_defaultOrder": 48,
    "_isFastLaunch": false,
    "category": "Accelerated computing",
    "gpuNum": 1,
    "hideHardwareSpecs": false,
    "memoryGiB": 32,
    "name": "ml.g5.2xlarge",
    "vcpuNum": 8
   },
   {
    "_defaultOrder": 49,
    "_isFastLaunch": false,
    "category": "Accelerated computing",
    "gpuNum": 1,
    "hideHardwareSpecs": false,
    "memoryGiB": 64,
    "name": "ml.g5.4xlarge",
    "vcpuNum": 16
   },
   {
    "_defaultOrder": 50,
    "_isFastLaunch": false,
    "category": "Accelerated computing",
    "gpuNum": 1,
    "hideHardwareSpecs": false,
    "memoryGiB": 128,
    "name": "ml.g5.8xlarge",
    "vcpuNum": 32
   },
   {
    "_defaultOrder": 51,
    "_isFastLaunch": false,
    "category": "Accelerated computing",
    "gpuNum": 1,
    "hideHardwareSpecs": false,
    "memoryGiB": 256,
    "name": "ml.g5.16xlarge",
    "vcpuNum": 64
   },
   {
    "_defaultOrder": 52,
    "_isFastLaunch": false,
    "category": "Accelerated computing",
    "gpuNum": 4,
    "hideHardwareSpecs": false,
    "memoryGiB": 192,
    "name": "ml.g5.12xlarge",
    "vcpuNum": 48
   },
   {
    "_defaultOrder": 53,
    "_isFastLaunch": false,
    "category": "Accelerated computing",
    "gpuNum": 4,
    "hideHardwareSpecs": false,
    "memoryGiB": 384,
    "name": "ml.g5.24xlarge",
    "vcpuNum": 96
   },
   {
    "_defaultOrder": 54,
    "_isFastLaunch": false,
    "category": "Accelerated computing",
    "gpuNum": 8,
    "hideHardwareSpecs": false,
    "memoryGiB": 768,
    "name": "ml.g5.48xlarge",
    "vcpuNum": 192
   },
   {
    "_defaultOrder": 55,
    "_isFastLaunch": false,
    "category": "Accelerated computing",
    "gpuNum": 8,
    "hideHardwareSpecs": false,
    "memoryGiB": 1152,
    "name": "ml.p4d.24xlarge",
    "vcpuNum": 96
   },
   {
    "_defaultOrder": 56,
    "_isFastLaunch": false,
    "category": "Accelerated computing",
    "gpuNum": 8,
    "hideHardwareSpecs": false,
    "memoryGiB": 1152,
    "name": "ml.p4de.24xlarge",
    "vcpuNum": 96
   },
   {
    "_defaultOrder": 57,
    "_isFastLaunch": false,
    "category": "Accelerated computing",
    "gpuNum": 0,
    "hideHardwareSpecs": false,
    "memoryGiB": 32,
    "name": "ml.trn1.2xlarge",
    "vcpuNum": 8
   },
   {
    "_defaultOrder": 58,
    "_isFastLaunch": false,
    "category": "Accelerated computing",
    "gpuNum": 0,
    "hideHardwareSpecs": false,
    "memoryGiB": 512,
    "name": "ml.trn1.32xlarge",
    "vcpuNum": 128
   },
   {
    "_defaultOrder": 59,
    "_isFastLaunch": false,
    "category": "Accelerated computing",
    "gpuNum": 0,
    "hideHardwareSpecs": false,
    "memoryGiB": 512,
    "name": "ml.trn1n.32xlarge",
    "vcpuNum": 128
   }
  ],
  "instance_type": "ml.t3.medium",
  "kernelspec": {
   "display_name": "Python 3 (Data Science 3.0)",
   "language": "python",
   "name": "python3__SAGEMAKER_INTERNAL__arn:aws:sagemaker:us-east-1:081325390199:image/sagemaker-data-science-310-v1"
  },
  "language_info": {
   "codemirror_mode": {
    "name": "ipython",
    "version": 3
   },
   "file_extension": ".py",
   "mimetype": "text/x-python",
   "name": "python",
   "nbconvert_exporter": "python",
   "pygments_lexer": "ipython3",
   "version": "3.10.6"
  }
 },
 "nbformat": 4,
 "nbformat_minor": 5
}
