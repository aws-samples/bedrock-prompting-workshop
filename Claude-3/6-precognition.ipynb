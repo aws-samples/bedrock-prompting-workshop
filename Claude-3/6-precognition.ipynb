{
 "cells": [
  {
   "cell_type": "markdown",
   "id": "b010b61e-a569-43e2-97cd-e9798e79905d",
   "metadata": {},
   "source": [
    "# **Chapter 6: Precognition (Thinking Step by Step)**\n",
    "\n",
    "---\n",
    "**Lesson:**\n",
    "\n",
    "If someone woke you up and immediately started asking you several complicated questions that you had to respond to right away, how would you do? Probably not as good as if you were given time to think through your answer first. \n",
    "Guess what? Claude is the same way.\n",
    "Giving Claude time to think step by step sometimes makes Claude more accurate, particularly for complex tasks.\n",
    "\n",
    "---"
   ]
  },
  {
   "cell_type": "markdown",
   "id": "5062f18e-2715-463a-9db5-ca7f3f749f05",
   "metadata": {},
   "source": [
    "First we will setup our dependencies"
   ]
  },
  {
   "cell_type": "code",
   "execution_count": 2,
   "id": "352156f5-8b7e-4d61-b93a-c04041875177",
   "metadata": {
    "tags": []
   },
   "outputs": [],
   "source": [
    "%%capture\n",
    "#Cell [1]\n",
    "\n",
    "#langchain\n",
    "%pip install langchain\n",
    "\n",
    "#Install libraries \n",
    "%pip install --no-build-isolation --force-reinstall \\\n",
    "    \"boto3>=1.28.57\" \\\n",
    "    \"awscli>=1.29.57\" \\\n",
    "    \"botocore>=1.31.57\"\n",
    "\n",
    "#Import libraries\n",
    "import json\n",
    "import os\n",
    "import sys\n",
    "import boto3\n",
    "import botocore\n",
    "\n",
    "#Set up Bedrock runtime client\n",
    "bedrock_runtime = boto3.client('bedrock-runtime')\n",
    "boto3_bedrock = boto3.client('bedrock')\n",
    "\n",
    "#Set up ModelID (Claude 3 Sonnet in this case)\n",
    "modelId = \"anthropic.claude-3-sonnet-20240229-v1:0\""
   ]
  },
  {
   "cell_type": "code",
   "execution_count": 3,
   "id": "41a02d84-4134-4e79-bf60-def674ffa866",
   "metadata": {
    "tags": []
   },
   "outputs": [],
   "source": [
    "#Cell [2]\n",
    "\n",
    "#Setup Model invocation function \n",
    "#Code modified from documentation: https://docs.aws.amazon.com/bedrock/latest/userguide/bedrock-runtime_example_bedrock-runtime_Claude3_Text_section.html\n",
    "def get_response(prompt_data):\n",
    "    response = bedrock_runtime.invoke_model(\n",
    "                    modelId=modelId,\n",
    "                    body=json.dumps(\n",
    "                        {\n",
    "                            \"anthropic_version\": \"bedrock-2023-05-31\",\n",
    "                            \"max_tokens\": 1024,\n",
    "                            \"messages\": [\n",
    "                                {\n",
    "                                    \"role\": \"user\",\n",
    "                                    \"content\": [{\"type\": \"text\", \"text\": prompt_data}],\n",
    "                                }\n",
    "                            ],\n",
    "                        }\n",
    "                    ),\n",
    "                )\n",
    "    result = json.loads(response.get(\"body\").read())\n",
    "    response = result.get(\"content\", [])[0]['text']\n",
    "    return response"
   ]
  },
  {
   "cell_type": "markdown",
   "id": "5502384f-e01e-4249-824c-5825d67f13ea",
   "metadata": {},
   "source": [
    "# **Examples:**"
   ]
  },
  {
   "cell_type": "markdown",
   "id": "d1d4ef95-74f8-4821-9af6-985608ad1fba",
   "metadata": {
    "tags": []
   },
   "source": [
    "**Example 6.1 - Movie Review**\n",
    "\n",
    "In the movie review prompt below, it's clear to a human reader that the second sentence belies the first. But Claude takes the word \"unrelated\" too literally."
   ]
  },
  {
   "cell_type": "code",
   "execution_count": 4,
   "id": "251a59df-b2ca-4cfd-a017-a7698b2d1d94",
   "metadata": {
    "tags": []
   },
   "outputs": [
    {
     "name": "stdout",
     "output_type": "stream",
     "text": [
      "Based on the statement \"This movie blew my mind with its freshness and originality\", the sentiment expressed towards the movie in this review is positive. The phrase \"blew my mind\" implies the reviewer was highly impressed and found the movie to be very fresh and original. The additional statement about living under a rock seems unrelated to the movie review itself.\n"
     ]
    }
   ],
   "source": [
    "response = get_response(\"\"\"\n",
    "\n",
    "Human: Is this movie review sentiment positive or negative?\n",
    "\n",
    "This movie blew my mind with its freshness and originality. Unrelatedly, I have been living under a rock since the year 1900.\n",
    "\n",
    "Assistant:\"\"\")\n",
    "\n",
    "print(response)"
   ]
  },
  {
   "cell_type": "markdown",
   "id": "56845631-6bf2-4bc8-ae8c-3b61024b389a",
   "metadata": {},
   "source": [
    "**Example 6.2 - Better movie review**\n",
    "\n",
    "To improve Claude's response, let's allow Claude to think things out first before answering. We do that by literally spelling out the steps that Claude should take in order to process and think through the prompt. \n",
    "Now, Claude's response is much better and more nuanced."
   ]
  },
  {
   "cell_type": "code",
   "execution_count": 5,
   "id": "1c504697-a819-49c2-848a-03d8d7223b5d",
   "metadata": {
    "tags": []
   },
   "outputs": [
    {
     "name": "stdout",
     "output_type": "stream",
     "text": [
      "<positive-arg>\n",
      "- The reviewer describes the movie as fresh and original, which are positive qualities that suggest the movie is innovative and creative.\n",
      "- Using the phrase \"blew my mind\" implies that the movie was exceptionally good and had a profound impact on the reviewer.\n",
      "</positive-arg>\n",
      "\n",
      "<negative-arg>\n",
      "- The statement \"I have been living under a rock since 1900\" suggests that the reviewer may not have much context or basis for comparison when it comes to assessing movies, potentially undermining the credibility of their positive assessment.\n",
      "- There is a lack of specific details or examples to support the positive claims about the movie's freshness and originality.\n",
      "</negative-arg>\n",
      "\n",
      "Overall, I would say this review sentiment is positive. While the second sentence raises some doubts about the reviewer's qualifications, the strong praise using phrases like \"blew my mind\" and describing the movie as fresh and original outweighs those concerns and indicates an overall positive sentiment toward the movie.\n"
     ]
    }
   ],
   "source": [
    "response = get_response(\"\"\"\n",
    "\n",
    "Human: Is this review sentiment positive or negative? First write the best arguments for each side in <positive-arg> and <negative-arg> XML tags, then answer.\n",
    "\n",
    "This movie blew my mind with its freshness and originality. Unrelatedly, I have been living under a rock since 1900.\n",
    "\n",
    "Assistant:\"\"\")\n",
    "\n",
    "print(response)"
   ]
  },
  {
   "cell_type": "markdown",
   "id": "24323c14-38c0-47ea-a657-21f8f2b8cbcc",
   "metadata": {},
   "source": [
    "**Example 6.3 - Blockbusters**\n",
    "\n",
    "Letting Claude think can shift Claude's answer from incorrect to correct. It's that simple in many cases where Claude makes mistakes!\n",
    "Let's go through an example where Claude's answer is incorrect to see how asking Claude to think can fix that.\t"
   ]
  },
  {
   "cell_type": "code",
   "execution_count": 7,
   "id": "8f8daf00-0356-4e06-853b-178bba21d6a2",
   "metadata": {
    "tags": []
   },
   "outputs": [
    {
     "name": "stdout",
     "output_type": "stream",
     "text": [
      "No, the directors of Jaws and Casino Royale are not citizens of the same country.\n",
      "\n",
      "Jaws was directed by Steven Spielberg, who is an American citizen born in Cincinnati, Ohio, United States.\n",
      "\n",
      "Casino Royale (the 2006 film starring Daniel Craig) was directed by Martin Campbell, who is a New Zealander born in Wanganui, New Zealand.\n",
      "\n",
      "So while they are both acclaimed directors, Steven Spielberg is an American and Martin Campbell is a New Zealander, so they do not share citizenship of the same country.\n"
     ]
    }
   ],
   "source": [
    "response = get_response(\"\"\"\n",
    "\n",
    "Human: Are both directors of Jaws and Casino Royale citizens of the same country?\n",
    "\n",
    "Assistant:\"\"\")\n",
    "\n",
    "print(response)"
   ]
  },
  {
   "cell_type": "markdown",
   "id": "4fb0a742-ae1d-43d7-9f26-34e38c5de185",
   "metadata": {},
   "source": [
    "**Example 6.4 - Blockbusters 2**\n",
    "\n",
    "Let's fix this by asking Claude to think step by step. Instead of spelling out each step for Claude, you can also simply use those exact words and ask Claude to think step by step first.\t\t\t"
   ]
  },
  {
   "cell_type": "code",
   "execution_count": 8,
   "id": "cf5a346d-a732-49ba-a99d-2744accec6f7",
   "metadata": {
    "tags": []
   },
   "outputs": [
    {
     "name": "stdout",
     "output_type": "stream",
     "text": [
      "To answer this question, we need to determine the nationalities of the directors of the movies \"Jaws\" and \"Casino Royale.\" Let's break it down step by step:\n",
      "\n",
      "Step 1: Identify the director of \"Jaws\"\n",
      "\"Jaws\" was directed by Steven Spielberg.\n",
      "\n",
      "Step 2: Identify the nationality of Steven Spielberg\n",
      "Steven Spielberg is an American director, producer, and screenwriter. He was born in Cincinnati, Ohio, USA.\n",
      "\n",
      "Step 3: Identify the director of \"Casino Royale\" (2006 version)\n",
      "The 2006 version of \"Casino Royale\" was directed by Martin Campbell.\n",
      "\n",
      "Step 4: Identify the nationality of Martin Campbell\n",
      "Martin Campbell is a New Zealand-born film director, producer, and writer. He was born in Wanganui, New Zealand, but later moved to the United Kingdom.\n",
      "\n",
      "Step 5: Compare the nationalities\n",
      "Steven Spielberg is an American citizen, while Martin Campbell holds New Zealand and British citizenship.\n",
      "\n",
      "Based on the information available, the directors of \"Jaws\" (Steven Spielberg) and \"Casino Royale\" (2006) (Martin Campbell) are not citizens of the same country.\n",
      "\n",
      "However, it's worth noting that since Martin Campbell has lived and worked in the UK for a significant part of his career, he likely holds British citizenship in addition to his New Zealand citizenship. If we consider his British citizenship, then Spielberg and Campbell could be considered citizens of the same country (the United States and the United Kingdom, respectively), as both countries are part of the Five Eyes intelligence alliance and have a close relationship.\n",
      "\n",
      "Nonetheless, based on the information provided and the assumptions made, the directors of \"Jaws\" and \"Casino Royale\" (2006) are not citizens of the same country by birth.\n"
     ]
    }
   ],
   "source": [
    "response = get_response(\"\"\"\n",
    "\n",
    "Human: Are both directors of Jaws and Casino Royale citizens of the same country? Make assumptions where needed, and think step by step.\n",
    "\n",
    "Assistant:\"\"\")\n",
    "\n",
    "print(response)"
   ]
  },
  {
   "cell_type": "markdown",
   "id": "ea6d0390-3df1-4ef1-b9ca-7265b7ce70f9",
   "metadata": {},
   "source": [
    "**Example 6.5 - Simon says**\n",
    "\n",
    "It's important to note that to some degree, \"let's think step by step\" has been pre-built into Claude's training. You will sometimes see Claude thinking step by step even when you don't ask it to, particularly if you asked it a logic or math problem. However, even then, such techniques are not failproof, and Claude thinks step by step and still gets the wrong answer. To help Claude here, we can tell Claude exactly what process it should undertake to think through the problem."
   ]
  },
  {
   "cell_type": "code",
   "execution_count": 9,
   "id": "32980de6-b247-417c-aa0b-234194e30d7e",
   "metadata": {
    "tags": []
   },
   "outputs": [
    {
     "name": "stdout",
     "output_type": "stream",
     "text": [
      "To solve this problem, let's follow the given procedure:\n",
      "\n",
      "(1) Considering the relevance of each clue:\n",
      "Clue 1: Potentially relevant, as it tells us where Miss Scarlett was.\n",
      "Clue 2: Potentially relevant, as it gives information about the location of the person with the pipe.\n",
      "Clue 3: Highly relevant, as it directly states where Colonel Mustard was.\n",
      "Clue 4: Potentially relevant, as it tells us where Professor Plum was not.\n",
      "Clue 5: Highly relevant, as it provides information about the location of the person with the candlestick.\n",
      "\n",
      "(2) Combining the relevant clues:\n",
      "From Clue 3, we know that \"Colonel Mustard was the only person in the observatory.\"\n",
      "From Clue 5, we know that \"The person with the candlestick was in the observatory.\"\n",
      "\n",
      "Combining these two clues, we can conclude that Colonel Mustard was the person in the observatory with the candlestick.\n",
      "\n",
      "(3) Mapping the answer to the multiple-choice options:\n",
      "Based on the reasoning above, the correct answer is (a) \"Yes; Colonel Mustard was in the observatory with the candlestick.\"\n",
      "\n",
      "Therefore, the answer to the question \"Was Colonel Mustard in the observatory with the candlestick?\" is (a) Yes; Colonel Mustard was in the observatory with the candlestick.\n"
     ]
    }
   ],
   "source": [
    "response = get_response(\"\"\"\n",
    "\n",
    "Human: Use the following clues to answer the following multiple-choice question, using the following procedure:\n",
    "(1) First, go through the clues one by one and consider whether the clue is potentially relevant\n",
    "(2) Second, combine the relevant clues pay attention to every single word. And then reason out the answer to the question\n",
    "(3) Third, map the answer to one of the multiple choice answers: either (a), (b), or (c)\n",
    " \n",
    "Clues:\n",
    "1. Miss Scarlett was the only person in the lounge.\n",
    "2. The person with the pipe was in the kitchen.\n",
    "3. Colonel Mustard was the only person in the observatory.\n",
    "4. Professor Plum was not in the library nor the billiard room.\n",
    "5. The person with the candlestick was in the observatory.\n",
    " \n",
    "Question: Was Colonel Mustard in the observatory with the candlestick?\n",
    "(a) Yes; Colonel Mustard was in the observatory with the candlestick\n",
    "(b) No; Colonel Mustard was not in the observatory with the candlestick\n",
    "(c) Unknown; there is not enough information to determine whether Colonel Mustard was in the observatory with the candlestick\n",
    " \n",
    "Assistant:\"\"\")\n",
    "\n",
    "print(response)"
   ]
  },
  {
   "cell_type": "markdown",
   "id": "8b39fef1-843f-4f29-a2dc-425b7eea9c93",
   "metadata": {},
   "source": [
    "# **Exercises**\n",
    "\n",
    "The following exercises will need you to manipulate the prompt to get the desired output"
   ]
  },
  {
   "cell_type": "markdown",
   "id": "df73c912-13d3-4e06-a7ac-a5cd46e9def3",
   "metadata": {},
   "source": [
    "**Exercise 6.1 - Classifying Emails**\n",
    "\n",
    "In this exercise, we'll be instructing Claude to sort emails into the following categories:\n",
    "(A) Pre-sale question\n",
    "(B) Broken or defective item\n",
    "(C) Billing question\n",
    "(D) Other (please explain)\n",
    "\n",
    "For the first part of the exercise, change the prompt in the cell below to make Claude output the correct classification. Your answer needs to include the letter (A - D) of the correct choice, with the parentheses, as well as the name of the category.\n",
    "\n",
    "> *Tip: Use precognition and other techniques you've learned leading up to this chapter!*"
   ]
  },
  {
   "cell_type": "code",
   "execution_count": 11,
   "id": "c011a614-48a0-40f7-b7a7-0932c3269ae3",
   "metadata": {},
   "outputs": [
    {
     "name": "stdout",
     "output_type": "stream",
     "text": [
      "Based on the details provided in the email, I would classify this as a product issue or complaint regarding a defective or malfunctioning product. The key points that indicate this classification are:\n",
      "\n",
      "1. The email mentions a specific product, the \"Mixmaster4000\", which is likely a kitchen appliance like a mixer or blender.\n",
      "\n",
      "2. It describes abnormal behavior from the product, such as producing a strange noise and a burning/smoky smell, which suggests a malfunction or defect.\n",
      "\n",
      "3. The person explicitly states that they need a replacement for the product.\n",
      "\n",
      "This type of email would typically be handled by a customer service or product support team, who would likely initiate a warranty claim, product replacement, or refund process for the defective item.\n"
     ]
    }
   ],
   "source": [
    "#Create a prompt template that has input variable(s)\n",
    "from langchain import PromptTemplate\n",
    "\n",
    "multi_var_prompt = PromptTemplate(\n",
    "    input_variables=[\"EMAIL\"], #Change Input variables \n",
    "    template=\"\"\"\n",
    "\n",
    "Human: Please classify this email {EMAIL} \n",
    "\n",
    "Assistant:\"\"\"\n",
    ")\n",
    "\n",
    "# Pass in values to the input variable(s)\n",
    "prompt = multi_var_prompt.format(EMAIL=\"Hi -- My Mixmaster4000 is producing a strange noise when I operate it. It also smells a bit smoky and plasticky, like burning electronics.  I need a replacement.\") #Should be classified as (B)\n",
    "\n",
    "response = get_response(prompt)\n",
    "\n",
    "print(response)"
   ]
  },
  {
   "cell_type": "code",
   "execution_count": 12,
   "id": "077fcfbe-45f9-4d45-91ff-e3b8399c9c15",
   "metadata": {},
   "outputs": [
    {
     "name": "stdout",
     "output_type": "stream",
     "text": [
      "This email does not seem to contain any sensitive or confidential information. It appears to be a simple question asking whether a Mixmaster 4000 kitchen appliance can be used for mixing paint or if it is intended only for mixing food ingredients.\n",
      "\n",
      "Given the context, this email can be classified as a general inquiry or product question and does not require any special handling or confidentiality measures.\n"
     ]
    }
   ],
   "source": [
    "#Create a prompt template that has input variable(s)\n",
    "multi_var_prompt = PromptTemplate(\n",
    "    input_variables=[\"EMAIL\"], #Change Input variables \n",
    "    template=\"\"\"\n",
    "\n",
    "Human: Please classify this email {EMAIL} \n",
    "\n",
    "Assistant:\"\"\"\n",
    ")\n",
    "\n",
    "# Pass in values to the input variable(s)\n",
    "prompt = multi_var_prompt.format(EMAIL=\"Can I use my Mixmaster 4000 to mix paint, or is it only meant for mixing food?\") #Should be classified as (A)\n",
    "\n",
    "response = get_response(prompt)\n",
    "\n",
    "print(response)"
   ]
  },
  {
   "cell_type": "code",
   "execution_count": 13,
   "id": "fe2e5177-1cea-46aa-9d11-597dd8883c0e",
   "metadata": {},
   "outputs": [
    {
     "name": "stdout",
     "output_type": "stream",
     "text": [
      "Based on the email content, this appears to be an angry customer complaint. The email is written in all capital letters, which often indicates the sender is expressing frustration or anger. The message mentions waiting 4 months for monthly charges to end after cancelling, implying an issue with cancellation of a service or subscription not being processed correctly. The use of multiple exclamation marks also conveys a sense of anger or exasperation.\n"
     ]
    }
   ],
   "source": [
    "#Create a prompt template that has input variable(s)\n",
    "multi_var_prompt = PromptTemplate(\n",
    "    input_variables=[\"EMAIL\"], #Change Input variables \n",
    "    template=\"\"\"\n",
    "\n",
    "Human: Please classify this email {EMAIL} \n",
    "\n",
    "Assistant:\"\"\"\n",
    ")\n",
    "\n",
    "# Pass in values to the input variable(s)\n",
    "prompt = multi_var_prompt.format(EMAIL=\"I HAVE BEEN WAITING 4 MONTHS FOR MY MONTHLY CHARGES TO END AFTER CANCELLING!!  WHAT IS GOING ON???\") #Should be classified as (C)\n",
    "\n",
    "response = get_response(prompt)\n",
    "\n",
    "print(response)"
   ]
  },
  {
   "cell_type": "code",
   "execution_count": 14,
   "id": "f9835d89-6206-4db3-adb3-0b1e7cb6c4f0",
   "metadata": {},
   "outputs": [
    {
     "name": "stdout",
     "output_type": "stream",
     "text": [
      "Based on the text \"How did I get here I am not good with computer. Halp.\", this email seems to be a request for help or support related to computer or technology issues. The sender appears to be confused or unsure about how they ended up in a certain situation or interface, and they admit to not being skilled with computers, hence asking for assistance.\n",
      "\n",
      "This type of email can be classified as a \"Help/Support Request\" or a \"Technical Support Query.\" It is a common type of email sent by users who face difficulties or have questions regarding computer software, hardware, or other technological systems, and they seek guidance or solutions from a support team or a more knowledgeable individual.\n"
     ]
    }
   ],
   "source": [
    "#Create a prompt template that has input variable(s)\n",
    "multi_var_prompt = PromptTemplate(\n",
    "    input_variables=[\"EMAIL\"], #Change Input variables \n",
    "    template=\"\"\"\n",
    "\n",
    "Human: Please classify this email {EMAIL} \n",
    "\n",
    "Assistant:\"\"\"\n",
    ")\n",
    "\n",
    "# Pass in values to the input variable(s)\n",
    "prompt = multi_var_prompt.format(EMAIL=\"How did I get here I am not good with computer.  Halp.\") #Should be classified as (D)\n",
    "\n",
    "response = get_response(prompt)\n",
    "\n",
    "print(response)"
   ]
  },
  {
   "cell_type": "markdown",
   "id": "9e646003-3930-4d64-a340-1b56bf5b4eb6",
   "metadata": {},
   "source": [
    "# Chapter 6 - END."
   ]
  }
 ],
 "metadata": {
  "availableInstances": [
   {
    "_defaultOrder": 0,
    "_isFastLaunch": true,
    "category": "General purpose",
    "gpuNum": 0,
    "hideHardwareSpecs": false,
    "memoryGiB": 4,
    "name": "ml.t3.medium",
    "vcpuNum": 2
   },
   {
    "_defaultOrder": 1,
    "_isFastLaunch": false,
    "category": "General purpose",
    "gpuNum": 0,
    "hideHardwareSpecs": false,
    "memoryGiB": 8,
    "name": "ml.t3.large",
    "vcpuNum": 2
   },
   {
    "_defaultOrder": 2,
    "_isFastLaunch": false,
    "category": "General purpose",
    "gpuNum": 0,
    "hideHardwareSpecs": false,
    "memoryGiB": 16,
    "name": "ml.t3.xlarge",
    "vcpuNum": 4
   },
   {
    "_defaultOrder": 3,
    "_isFastLaunch": false,
    "category": "General purpose",
    "gpuNum": 0,
    "hideHardwareSpecs": false,
    "memoryGiB": 32,
    "name": "ml.t3.2xlarge",
    "vcpuNum": 8
   },
   {
    "_defaultOrder": 4,
    "_isFastLaunch": true,
    "category": "General purpose",
    "gpuNum": 0,
    "hideHardwareSpecs": false,
    "memoryGiB": 8,
    "name": "ml.m5.large",
    "vcpuNum": 2
   },
   {
    "_defaultOrder": 5,
    "_isFastLaunch": false,
    "category": "General purpose",
    "gpuNum": 0,
    "hideHardwareSpecs": false,
    "memoryGiB": 16,
    "name": "ml.m5.xlarge",
    "vcpuNum": 4
   },
   {
    "_defaultOrder": 6,
    "_isFastLaunch": false,
    "category": "General purpose",
    "gpuNum": 0,
    "hideHardwareSpecs": false,
    "memoryGiB": 32,
    "name": "ml.m5.2xlarge",
    "vcpuNum": 8
   },
   {
    "_defaultOrder": 7,
    "_isFastLaunch": false,
    "category": "General purpose",
    "gpuNum": 0,
    "hideHardwareSpecs": false,
    "memoryGiB": 64,
    "name": "ml.m5.4xlarge",
    "vcpuNum": 16
   },
   {
    "_defaultOrder": 8,
    "_isFastLaunch": false,
    "category": "General purpose",
    "gpuNum": 0,
    "hideHardwareSpecs": false,
    "memoryGiB": 128,
    "name": "ml.m5.8xlarge",
    "vcpuNum": 32
   },
   {
    "_defaultOrder": 9,
    "_isFastLaunch": false,
    "category": "General purpose",
    "gpuNum": 0,
    "hideHardwareSpecs": false,
    "memoryGiB": 192,
    "name": "ml.m5.12xlarge",
    "vcpuNum": 48
   },
   {
    "_defaultOrder": 10,
    "_isFastLaunch": false,
    "category": "General purpose",
    "gpuNum": 0,
    "hideHardwareSpecs": false,
    "memoryGiB": 256,
    "name": "ml.m5.16xlarge",
    "vcpuNum": 64
   },
   {
    "_defaultOrder": 11,
    "_isFastLaunch": false,
    "category": "General purpose",
    "gpuNum": 0,
    "hideHardwareSpecs": false,
    "memoryGiB": 384,
    "name": "ml.m5.24xlarge",
    "vcpuNum": 96
   },
   {
    "_defaultOrder": 12,
    "_isFastLaunch": false,
    "category": "General purpose",
    "gpuNum": 0,
    "hideHardwareSpecs": false,
    "memoryGiB": 8,
    "name": "ml.m5d.large",
    "vcpuNum": 2
   },
   {
    "_defaultOrder": 13,
    "_isFastLaunch": false,
    "category": "General purpose",
    "gpuNum": 0,
    "hideHardwareSpecs": false,
    "memoryGiB": 16,
    "name": "ml.m5d.xlarge",
    "vcpuNum": 4
   },
   {
    "_defaultOrder": 14,
    "_isFastLaunch": false,
    "category": "General purpose",
    "gpuNum": 0,
    "hideHardwareSpecs": false,
    "memoryGiB": 32,
    "name": "ml.m5d.2xlarge",
    "vcpuNum": 8
   },
   {
    "_defaultOrder": 15,
    "_isFastLaunch": false,
    "category": "General purpose",
    "gpuNum": 0,
    "hideHardwareSpecs": false,
    "memoryGiB": 64,
    "name": "ml.m5d.4xlarge",
    "vcpuNum": 16
   },
   {
    "_defaultOrder": 16,
    "_isFastLaunch": false,
    "category": "General purpose",
    "gpuNum": 0,
    "hideHardwareSpecs": false,
    "memoryGiB": 128,
    "name": "ml.m5d.8xlarge",
    "vcpuNum": 32
   },
   {
    "_defaultOrder": 17,
    "_isFastLaunch": false,
    "category": "General purpose",
    "gpuNum": 0,
    "hideHardwareSpecs": false,
    "memoryGiB": 192,
    "name": "ml.m5d.12xlarge",
    "vcpuNum": 48
   },
   {
    "_defaultOrder": 18,
    "_isFastLaunch": false,
    "category": "General purpose",
    "gpuNum": 0,
    "hideHardwareSpecs": false,
    "memoryGiB": 256,
    "name": "ml.m5d.16xlarge",
    "vcpuNum": 64
   },
   {
    "_defaultOrder": 19,
    "_isFastLaunch": false,
    "category": "General purpose",
    "gpuNum": 0,
    "hideHardwareSpecs": false,
    "memoryGiB": 384,
    "name": "ml.m5d.24xlarge",
    "vcpuNum": 96
   },
   {
    "_defaultOrder": 20,
    "_isFastLaunch": false,
    "category": "General purpose",
    "gpuNum": 0,
    "hideHardwareSpecs": true,
    "memoryGiB": 0,
    "name": "ml.geospatial.interactive",
    "supportedImageNames": [
     "sagemaker-geospatial-v1-0"
    ],
    "vcpuNum": 0
   },
   {
    "_defaultOrder": 21,
    "_isFastLaunch": true,
    "category": "Compute optimized",
    "gpuNum": 0,
    "hideHardwareSpecs": false,
    "memoryGiB": 4,
    "name": "ml.c5.large",
    "vcpuNum": 2
   },
   {
    "_defaultOrder": 22,
    "_isFastLaunch": false,
    "category": "Compute optimized",
    "gpuNum": 0,
    "hideHardwareSpecs": false,
    "memoryGiB": 8,
    "name": "ml.c5.xlarge",
    "vcpuNum": 4
   },
   {
    "_defaultOrder": 23,
    "_isFastLaunch": false,
    "category": "Compute optimized",
    "gpuNum": 0,
    "hideHardwareSpecs": false,
    "memoryGiB": 16,
    "name": "ml.c5.2xlarge",
    "vcpuNum": 8
   },
   {
    "_defaultOrder": 24,
    "_isFastLaunch": false,
    "category": "Compute optimized",
    "gpuNum": 0,
    "hideHardwareSpecs": false,
    "memoryGiB": 32,
    "name": "ml.c5.4xlarge",
    "vcpuNum": 16
   },
   {
    "_defaultOrder": 25,
    "_isFastLaunch": false,
    "category": "Compute optimized",
    "gpuNum": 0,
    "hideHardwareSpecs": false,
    "memoryGiB": 72,
    "name": "ml.c5.9xlarge",
    "vcpuNum": 36
   },
   {
    "_defaultOrder": 26,
    "_isFastLaunch": false,
    "category": "Compute optimized",
    "gpuNum": 0,
    "hideHardwareSpecs": false,
    "memoryGiB": 96,
    "name": "ml.c5.12xlarge",
    "vcpuNum": 48
   },
   {
    "_defaultOrder": 27,
    "_isFastLaunch": false,
    "category": "Compute optimized",
    "gpuNum": 0,
    "hideHardwareSpecs": false,
    "memoryGiB": 144,
    "name": "ml.c5.18xlarge",
    "vcpuNum": 72
   },
   {
    "_defaultOrder": 28,
    "_isFastLaunch": false,
    "category": "Compute optimized",
    "gpuNum": 0,
    "hideHardwareSpecs": false,
    "memoryGiB": 192,
    "name": "ml.c5.24xlarge",
    "vcpuNum": 96
   },
   {
    "_defaultOrder": 29,
    "_isFastLaunch": true,
    "category": "Accelerated computing",
    "gpuNum": 1,
    "hideHardwareSpecs": false,
    "memoryGiB": 16,
    "name": "ml.g4dn.xlarge",
    "vcpuNum": 4
   },
   {
    "_defaultOrder": 30,
    "_isFastLaunch": false,
    "category": "Accelerated computing",
    "gpuNum": 1,
    "hideHardwareSpecs": false,
    "memoryGiB": 32,
    "name": "ml.g4dn.2xlarge",
    "vcpuNum": 8
   },
   {
    "_defaultOrder": 31,
    "_isFastLaunch": false,
    "category": "Accelerated computing",
    "gpuNum": 1,
    "hideHardwareSpecs": false,
    "memoryGiB": 64,
    "name": "ml.g4dn.4xlarge",
    "vcpuNum": 16
   },
   {
    "_defaultOrder": 32,
    "_isFastLaunch": false,
    "category": "Accelerated computing",
    "gpuNum": 1,
    "hideHardwareSpecs": false,
    "memoryGiB": 128,
    "name": "ml.g4dn.8xlarge",
    "vcpuNum": 32
   },
   {
    "_defaultOrder": 33,
    "_isFastLaunch": false,
    "category": "Accelerated computing",
    "gpuNum": 4,
    "hideHardwareSpecs": false,
    "memoryGiB": 192,
    "name": "ml.g4dn.12xlarge",
    "vcpuNum": 48
   },
   {
    "_defaultOrder": 34,
    "_isFastLaunch": false,
    "category": "Accelerated computing",
    "gpuNum": 1,
    "hideHardwareSpecs": false,
    "memoryGiB": 256,
    "name": "ml.g4dn.16xlarge",
    "vcpuNum": 64
   },
   {
    "_defaultOrder": 35,
    "_isFastLaunch": false,
    "category": "Accelerated computing",
    "gpuNum": 1,
    "hideHardwareSpecs": false,
    "memoryGiB": 61,
    "name": "ml.p3.2xlarge",
    "vcpuNum": 8
   },
   {
    "_defaultOrder": 36,
    "_isFastLaunch": false,
    "category": "Accelerated computing",
    "gpuNum": 4,
    "hideHardwareSpecs": false,
    "memoryGiB": 244,
    "name": "ml.p3.8xlarge",
    "vcpuNum": 32
   },
   {
    "_defaultOrder": 37,
    "_isFastLaunch": false,
    "category": "Accelerated computing",
    "gpuNum": 8,
    "hideHardwareSpecs": false,
    "memoryGiB": 488,
    "name": "ml.p3.16xlarge",
    "vcpuNum": 64
   },
   {
    "_defaultOrder": 38,
    "_isFastLaunch": false,
    "category": "Accelerated computing",
    "gpuNum": 8,
    "hideHardwareSpecs": false,
    "memoryGiB": 768,
    "name": "ml.p3dn.24xlarge",
    "vcpuNum": 96
   },
   {
    "_defaultOrder": 39,
    "_isFastLaunch": false,
    "category": "Memory Optimized",
    "gpuNum": 0,
    "hideHardwareSpecs": false,
    "memoryGiB": 16,
    "name": "ml.r5.large",
    "vcpuNum": 2
   },
   {
    "_defaultOrder": 40,
    "_isFastLaunch": false,
    "category": "Memory Optimized",
    "gpuNum": 0,
    "hideHardwareSpecs": false,
    "memoryGiB": 32,
    "name": "ml.r5.xlarge",
    "vcpuNum": 4
   },
   {
    "_defaultOrder": 41,
    "_isFastLaunch": false,
    "category": "Memory Optimized",
    "gpuNum": 0,
    "hideHardwareSpecs": false,
    "memoryGiB": 64,
    "name": "ml.r5.2xlarge",
    "vcpuNum": 8
   },
   {
    "_defaultOrder": 42,
    "_isFastLaunch": false,
    "category": "Memory Optimized",
    "gpuNum": 0,
    "hideHardwareSpecs": false,
    "memoryGiB": 128,
    "name": "ml.r5.4xlarge",
    "vcpuNum": 16
   },
   {
    "_defaultOrder": 43,
    "_isFastLaunch": false,
    "category": "Memory Optimized",
    "gpuNum": 0,
    "hideHardwareSpecs": false,
    "memoryGiB": 256,
    "name": "ml.r5.8xlarge",
    "vcpuNum": 32
   },
   {
    "_defaultOrder": 44,
    "_isFastLaunch": false,
    "category": "Memory Optimized",
    "gpuNum": 0,
    "hideHardwareSpecs": false,
    "memoryGiB": 384,
    "name": "ml.r5.12xlarge",
    "vcpuNum": 48
   },
   {
    "_defaultOrder": 45,
    "_isFastLaunch": false,
    "category": "Memory Optimized",
    "gpuNum": 0,
    "hideHardwareSpecs": false,
    "memoryGiB": 512,
    "name": "ml.r5.16xlarge",
    "vcpuNum": 64
   },
   {
    "_defaultOrder": 46,
    "_isFastLaunch": false,
    "category": "Memory Optimized",
    "gpuNum": 0,
    "hideHardwareSpecs": false,
    "memoryGiB": 768,
    "name": "ml.r5.24xlarge",
    "vcpuNum": 96
   },
   {
    "_defaultOrder": 47,
    "_isFastLaunch": false,
    "category": "Accelerated computing",
    "gpuNum": 1,
    "hideHardwareSpecs": false,
    "memoryGiB": 16,
    "name": "ml.g5.xlarge",
    "vcpuNum": 4
   },
   {
    "_defaultOrder": 48,
    "_isFastLaunch": false,
    "category": "Accelerated computing",
    "gpuNum": 1,
    "hideHardwareSpecs": false,
    "memoryGiB": 32,
    "name": "ml.g5.2xlarge",
    "vcpuNum": 8
   },
   {
    "_defaultOrder": 49,
    "_isFastLaunch": false,
    "category": "Accelerated computing",
    "gpuNum": 1,
    "hideHardwareSpecs": false,
    "memoryGiB": 64,
    "name": "ml.g5.4xlarge",
    "vcpuNum": 16
   },
   {
    "_defaultOrder": 50,
    "_isFastLaunch": false,
    "category": "Accelerated computing",
    "gpuNum": 1,
    "hideHardwareSpecs": false,
    "memoryGiB": 128,
    "name": "ml.g5.8xlarge",
    "vcpuNum": 32
   },
   {
    "_defaultOrder": 51,
    "_isFastLaunch": false,
    "category": "Accelerated computing",
    "gpuNum": 1,
    "hideHardwareSpecs": false,
    "memoryGiB": 256,
    "name": "ml.g5.16xlarge",
    "vcpuNum": 64
   },
   {
    "_defaultOrder": 52,
    "_isFastLaunch": false,
    "category": "Accelerated computing",
    "gpuNum": 4,
    "hideHardwareSpecs": false,
    "memoryGiB": 192,
    "name": "ml.g5.12xlarge",
    "vcpuNum": 48
   },
   {
    "_defaultOrder": 53,
    "_isFastLaunch": false,
    "category": "Accelerated computing",
    "gpuNum": 4,
    "hideHardwareSpecs": false,
    "memoryGiB": 384,
    "name": "ml.g5.24xlarge",
    "vcpuNum": 96
   },
   {
    "_defaultOrder": 54,
    "_isFastLaunch": false,
    "category": "Accelerated computing",
    "gpuNum": 8,
    "hideHardwareSpecs": false,
    "memoryGiB": 768,
    "name": "ml.g5.48xlarge",
    "vcpuNum": 192
   },
   {
    "_defaultOrder": 55,
    "_isFastLaunch": false,
    "category": "Accelerated computing",
    "gpuNum": 8,
    "hideHardwareSpecs": false,
    "memoryGiB": 1152,
    "name": "ml.p4d.24xlarge",
    "vcpuNum": 96
   },
   {
    "_defaultOrder": 56,
    "_isFastLaunch": false,
    "category": "Accelerated computing",
    "gpuNum": 8,
    "hideHardwareSpecs": false,
    "memoryGiB": 1152,
    "name": "ml.p4de.24xlarge",
    "vcpuNum": 96
   },
   {
    "_defaultOrder": 57,
    "_isFastLaunch": false,
    "category": "Accelerated computing",
    "gpuNum": 0,
    "hideHardwareSpecs": false,
    "memoryGiB": 32,
    "name": "ml.trn1.2xlarge",
    "vcpuNum": 8
   },
   {
    "_defaultOrder": 58,
    "_isFastLaunch": false,
    "category": "Accelerated computing",
    "gpuNum": 0,
    "hideHardwareSpecs": false,
    "memoryGiB": 512,
    "name": "ml.trn1.32xlarge",
    "vcpuNum": 128
   },
   {
    "_defaultOrder": 59,
    "_isFastLaunch": false,
    "category": "Accelerated computing",
    "gpuNum": 0,
    "hideHardwareSpecs": false,
    "memoryGiB": 512,
    "name": "ml.trn1n.32xlarge",
    "vcpuNum": 128
   }
  ],
  "instance_type": "ml.t3.medium",
  "kernelspec": {
   "display_name": "Python 3 (Data Science 3.0)",
   "language": "python",
   "name": "python3__SAGEMAKER_INTERNAL__arn:aws:sagemaker:us-east-1:081325390199:image/sagemaker-data-science-310-v1"
  },
  "language_info": {
   "codemirror_mode": {
    "name": "ipython",
    "version": 3
   },
   "file_extension": ".py",
   "mimetype": "text/x-python",
   "name": "python",
   "nbconvert_exporter": "python",
   "pygments_lexer": "ipython3",
   "version": "3.10.6"
  }
 },
 "nbformat": 4,
 "nbformat_minor": 5
}
