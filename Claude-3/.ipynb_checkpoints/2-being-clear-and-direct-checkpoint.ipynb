{
 "cells": [
  {
   "cell_type": "markdown",
   "id": "e3a13b6f-031f-422a-b111-42f0a3408d9c",
   "metadata": {},
   "source": [
    "# **Chapter 2: Being Clear and Direct**\n",
    "\n",
    "---\n",
    "**Lesson:**\n",
    "\n",
    "Claude responds best to clear and direct instructions. \n",
    "\n",
    "> Note: the *Golden Rule of Clear Prompting: show your prompt to a friend* and ask them if they could follow the intructions themselves and produce the exact result you want. If they are confused, Claude will be confused as well. \n",
    "\n",
    "---"
   ]
  },
  {
   "cell_type": "markdown",
   "id": "a1b6509f-cdc8-4b69-857b-8175f4573038",
   "metadata": {},
   "source": [
    "First we will setup our dependencies"
   ]
  },
  {
   "cell_type": "code",
   "execution_count": 5,
   "id": "211a649b-130f-4802-8410-2031879a0060",
   "metadata": {
    "tags": []
   },
   "outputs": [],
   "source": [
    "%%capture\n",
    "#Cell [1]\n",
    "\n",
    "#Install libraries \n",
    "%pip install --no-build-isolation --force-reinstall \\\n",
    "    \"boto3>=1.28.57\" \\\n",
    "    \"awscli>=1.29.57\" \\\n",
    "    \"botocore>=1.31.57\"\n",
    "\n",
    "#Import libraries\n",
    "import json\n",
    "import os\n",
    "import sys\n",
    "import boto3\n",
    "import botocore\n",
    "\n",
    "#Set up Bedrock runtime client\n",
    "bedrock_runtime = boto3.client('bedrock-runtime')\n",
    "boto3_bedrock = boto3.client('bedrock')\n",
    "\n",
    "#Set up ModelID (Claude 3 Sonnet in this case)\n",
    "modelId = \"anthropic.claude-3-sonnet-20240229-v1:0\""
   ]
  },
  {
   "cell_type": "markdown",
   "id": "dd5ce332-1cd8-4f81-bc73-66ed49425339",
   "metadata": {},
   "source": [
    "Now we set up the funciton to call Bedrock and invoke our model"
   ]
  },
  {
   "cell_type": "code",
   "execution_count": 3,
   "id": "a60cdbbd-5447-4411-9ea2-0f69752f76d4",
   "metadata": {
    "tags": []
   },
   "outputs": [],
   "source": [
    "#Cell [2]\n",
    "\n",
    "#Setup Model invocation function \n",
    "#Code modified from documentation: https://docs.aws.amazon.com/bedrock/latest/userguide/bedrock-runtime_example_bedrock-runtime_Claude3_Text_section.html\n",
    "def get_response(prompt_data):\n",
    "    response = bedrock_runtime.invoke_model(\n",
    "                    modelId=modelId,\n",
    "                    body=json.dumps(\n",
    "                        {\n",
    "                            \"anthropic_version\": \"bedrock-2023-05-31\",\n",
    "                            \"max_tokens\": 1024,\n",
    "                            \"messages\": [\n",
    "                                {\n",
    "                                    \"role\": \"user\",\n",
    "                                    \"content\": [{\"type\": \"text\", \"text\": prompt_data}],\n",
    "                                }\n",
    "                            ],\n",
    "                        }\n",
    "                    ),\n",
    "                )\n",
    "    result = json.loads(response.get(\"body\").read())\n",
    "    response = result.get(\"content\", [])[0]['text']\n",
    "    return response"
   ]
  },
  {
   "cell_type": "markdown",
   "id": "d11b0f4b-e8cb-4d68-a0ef-a4b0e111e5ec",
   "metadata": {
    "tags": []
   },
   "source": [
    "# **Examples:**\n",
    "\n",
    "Let's take a task like writing poetry. (Ignore the syllable mismatch - LLM's are not great at counting syllables yet)\n",
    "\n",
    "**Example 2.1 - Haiku**"
   ]
  },
  {
   "cell_type": "code",
   "execution_count": 6,
   "id": "22fddabe-b0e3-4ca4-a097-1ab338eaba56",
   "metadata": {
    "tags": []
   },
   "outputs": [
    {
     "name": "stdout",
     "output_type": "stream",
     "text": [
      "Here's a haiku about robots:\n",
      "\n",
      "Metal forms whirring\n",
      "Circuits blinking, tasks complete\n",
      "Future's cold embrace\n"
     ]
    }
   ],
   "source": [
    "#Cell [3]\n",
    "\n",
    "prompt_data = \"\"\"Human: Write a Haiku about robots.\n",
    "\n",
    "Assistant:\n",
    "\"\"\"\n",
    "\n",
    "# Process and print the response\n",
    "response = get_response(prompt_data)\n",
    "print(response)"
   ]
  },
  {
   "cell_type": "markdown",
   "id": "5b35ad14-e10f-43c5-a9cc-f024ce8488d5",
   "metadata": {},
   "source": [
    "**Example 2.2 - JUST the Haiku**\n",
    "\n",
    "The haiku from the last example is nice enough, but users may want Claude to go directly into the poem without the \"Here is a haiku\" preamble. How do we achieve that? We ask for it!"
   ]
  },
  {
   "cell_type": "code",
   "execution_count": 7,
   "id": "d881bcf8-a4af-40cb-8e9f-cb668d620c94",
   "metadata": {
    "tags": []
   },
   "outputs": [
    {
     "name": "stdout",
     "output_type": "stream",
     "text": [
      "Metallic beings\n",
      "Programmed with cold logic\n",
      "Artificial life\n"
     ]
    }
   ],
   "source": [
    "#Cell [4]\n",
    "\n",
    "prompt_data = \"\"\"Human: Write a haiku about robots. Return the haiku only, without any preamble.\n",
    "\n",
    "Assistant:\n",
    "\"\"\"\n",
    "\n",
    "# Process and print the response\n",
    "response = get_response(prompt_data)\n",
    "print(response)"
   ]
  },
  {
   "cell_type": "markdown",
   "id": "6ef49409-7c7c-48ef-86a8-47b0f730b61f",
   "metadata": {},
   "source": [
    "**Example 2.3 - The best**\n",
    "\n",
    "Here's another example. Let's ask Claude who's the best basketball player of all time. You can see below that while Claude lists a few names, it doesn't respond with a definitive \"best\".\t"
   ]
  },
  {
   "cell_type": "code",
   "execution_count": 8,
   "id": "d037be1a-fbb3-46d3-b063-21876e879ecb",
   "metadata": {
    "tags": []
   },
   "outputs": [
    {
     "name": "stdout",
     "output_type": "stream",
     "text": [
      "There is no definitive consensus on who the overall best basketball player of all time is, as it's a subjective matter that depends on how one weighes different factors. However, some of the players most commonly cited as among the greatest of all time include:\n",
      "\n",
      "- Michael Jordan - Widely considered one of the most skilled and accomplished players ever. He won 6 NBA championships with the Chicago Bulls and was a 14-time All-Star. Known for his scoring ability, competitiveness and clutch performances.\n",
      "\n",
      "- LeBron James - A 4-time NBA champion and 4-time MVP, LeBron is still an active player but has assembled one of the greatest career stat lines and championship resumes in NBA history with his longevity and all-around game.\n",
      "\n",
      "- Kareem Abdul-Jabbar - The NBA's all-time leading scorer with his famous skyhook shot. He won 6 NBA titles and was a 19-time All-Star over his 20-year career.\n",
      "\n",
      "- Wilt Chamberlain - Holds numerous scoring records including once scoring 100 points in a game. He was the most dominant force the game has seen from a physical perspective.\n",
      "\n",
      "- Bill Russell - The cornerstone of the Boston Celtics dynasty in the 1950s and 1960s, winning 11 NBA championships. He was an elite defender and leader.\n",
      "\n",
      "There are plenty of other all-time greats that analysts and fans will debate endlessly. But those tend to be among the most common picks for the overall greatest based on their championship success and statistical accomplishments.\n"
     ]
    }
   ],
   "source": [
    "#Cell [5]\n",
    "\n",
    "prompt_data = \"\"\"Human: Who is the overall best basketball player of all time?.\n",
    "\n",
    "Assistant:\n",
    "\"\"\"\n",
    "\n",
    "# Process and print the response\n",
    "response = get_response(prompt_data)\n",
    "print(response)"
   ]
  },
  {
   "cell_type": "markdown",
   "id": "9c46b622-5b6c-45c5-bbd6-42acce1d08ce",
   "metadata": {},
   "source": [
    "**Example 2.4 - The best of the best**\n",
    "\n",
    "Can we get Claude to make up its mind and decide on a best player? Yes! Just ask!\t"
   ]
  },
  {
   "cell_type": "code",
   "execution_count": 10,
   "id": "fcc55d1c-bc95-496e-89f0-816ff9dbbb8c",
   "metadata": {
    "tags": []
   },
   "outputs": [
    {
     "name": "stdout",
     "output_type": "stream",
     "text": [
      "In my opinion, the overall best basketball player of all time is Michael Jordan.\n",
      "\n",
      "Here's my argument for why Michael Jordan deserves that title:\n",
      "\n",
      "1. Unmatched Competitive Greatness and Clutch Performances:\n",
      "Michael Jordan is widely regarded as one of the fiercest competitors and clutch performers in sports history. He had an unparalleled ability to elevate his game in the biggest moments, exemplified by his countless game-winning shots and legendary performances in the NBA Finals.\n",
      "\n",
      "2. Incredible Individual Accolades:\n",
      "Jordan's individual accomplishments are unmatched. He won 5 NBA MVP awards, 10 scoring titles, and was a 14-time All-Star. He is the only player to win NBA Finals MVP with two different three-peats (1991-1993 and 1996-1998).\n",
      "\n",
      "3. Sustained Dominance and Championship Pedigree:\n",
      "Jordan led the Chicago Bulls to six NBA championships in the 1990s, cementing his legacy as a winner. He was the driving force behind two three-peats (1991-1993 and 1996-1998), a feat no other player has accomplished.\n",
      "\n",
      "4. Transcendent Impact and Influence:\n",
      "Jordan's impact on the game of basketball and popular culture is unparalleled. He became a global icon and helped propel the NBA to new heights of popularity and commercialization. His influence on the sport and its players is immeasurable.\n",
      "\n",
      "5. Unmatched Scoring Prowess and Athleticism:\n",
      "Jordan was a gifted scorer with an incredible arsenal of offensive moves. He was also an amazing athlete, known for his leaping ability, hang time, and acrobatic finishes at the rim. His combination of skill and athleticism was truly unprecedented.\n",
      "\n",
      "While there are other greats like LeBron James, Kareem Abdul-Jabbar, and Wilt Chamberlain, no player has had the same level of sustained excellence, clutch performances, and cultural impact as Michael Jordan. His unmatched competitive spirit, individual accolades, and championship pedigree solidify his status as the greatest basketball player of all time.\n"
     ]
    }
   ],
   "source": [
    "#Cell [6]\n",
    "\n",
    "prompt_data = \"\"\"Human: Who is the overall best basketball player of all time? Make an argument for one player only.\n",
    "\n",
    "Assistant:\n",
    "\"\"\"\n",
    "\n",
    "# Process and print the response\n",
    "response = get_response(prompt_data)\n",
    "print(response)"
   ]
  },
  {
   "cell_type": "markdown",
   "id": "f67355cf-53a5-4d10-8d9d-deac6e7e085d",
   "metadata": {},
   "source": [
    "# **Exercise**\n",
    "\n",
    "The following exercise will need you to manipulate the prompt to get the desired output\n",
    "\n",
    "**Exercise 2.1 - One player only**\n",
    "\n",
    "Modify the basketball player prompt so that Claude doesn't equivocate at all and responds with ONLY the name of one specific player, with no other words or punctuation. "
   ]
  },
  {
   "cell_type": "code",
   "execution_count": 11,
   "id": "f7145938-4a2c-4af6-b5cc-a64518c68769",
   "metadata": {
    "tags": []
   },
   "outputs": [
    {
     "name": "stdout",
     "output_type": "stream",
     "text": [
      "In my opinion, the strongest case can be made for Michael Jordan as the greatest basketball player of all time.\n",
      "\n",
      "Here are some of the key arguments in favor of MJ:\n",
      "\n",
      "1. Unmatched individual accolades: 6 NBA championships, 6 Finals MVPs, 5 NBA MVPs, 14 All-Star selections, 10 scoring titles, Defensive Player of the Year, and more. No other player comes close to matching his breath of individual achievements.\n",
      "\n",
      "2. Iconic moments/clutch gene: Jordan had an uncanny ability to rise to the occasion and make iconic, game-winning plays time and time again - from \"The Shot\" over Craig Ehlo to \"The Flu Game\" to hitting the championship-winning jumper in 1998. He's universally regarded as one of the most clutch performers ever.\n",
      "\n",
      "3. Competitive drive/mentality: Jordan's intense competitive spirit, confidence, and will to win was unparalleled. He willed his teams to victory through sheer determination and raised the games of those around him.\n",
      "\n",
      "4. Longevity at an elite level: Though his career was \"only\" 15 seasons, Jordan was the best player in the league for over a decade, winning championships across two three-peats spaced several years apart after his baseball hiatus.\n",
      "\n",
      "5. Advanced stats/impact metrics: By modern advanced stats like PER, win shares, etc., Jordan rates as one of the most impactful players ever at elevating his team's performances.\n",
      "\n",
      "While cases can be made for players like LeBron, Kareem, or Wilt based on longevity, stats, etc., Jordan's flair for the spectacular combined with his sustainable brilliance over a decade makes him the ultimate consummate basketball player for many analysts.\n"
     ]
    }
   ],
   "source": [
    "#Cell [7]\n",
    "\n",
    "prompt_data = \"\"\"Human: Who is the overall best basketball player of all time? Make an argument for one player only.\n",
    "\n",
    "Assistant: \n",
    "\"\"\"\n",
    "\n",
    "# Process and print the response\n",
    "response = get_response(prompt_data)\n",
    "print(response)"
   ]
  },
  {
   "cell_type": "markdown",
   "id": "a1c4b81c-c018-4f14-b684-cc09e7e54d85",
   "metadata": {},
   "source": [
    "# Chapter 2 - END."
   ]
  }
 ],
 "metadata": {
  "availableInstances": [
   {
    "_defaultOrder": 0,
    "_isFastLaunch": true,
    "category": "General purpose",
    "gpuNum": 0,
    "hideHardwareSpecs": false,
    "memoryGiB": 4,
    "name": "ml.t3.medium",
    "vcpuNum": 2
   },
   {
    "_defaultOrder": 1,
    "_isFastLaunch": false,
    "category": "General purpose",
    "gpuNum": 0,
    "hideHardwareSpecs": false,
    "memoryGiB": 8,
    "name": "ml.t3.large",
    "vcpuNum": 2
   },
   {
    "_defaultOrder": 2,
    "_isFastLaunch": false,
    "category": "General purpose",
    "gpuNum": 0,
    "hideHardwareSpecs": false,
    "memoryGiB": 16,
    "name": "ml.t3.xlarge",
    "vcpuNum": 4
   },
   {
    "_defaultOrder": 3,
    "_isFastLaunch": false,
    "category": "General purpose",
    "gpuNum": 0,
    "hideHardwareSpecs": false,
    "memoryGiB": 32,
    "name": "ml.t3.2xlarge",
    "vcpuNum": 8
   },
   {
    "_defaultOrder": 4,
    "_isFastLaunch": true,
    "category": "General purpose",
    "gpuNum": 0,
    "hideHardwareSpecs": false,
    "memoryGiB": 8,
    "name": "ml.m5.large",
    "vcpuNum": 2
   },
   {
    "_defaultOrder": 5,
    "_isFastLaunch": false,
    "category": "General purpose",
    "gpuNum": 0,
    "hideHardwareSpecs": false,
    "memoryGiB": 16,
    "name": "ml.m5.xlarge",
    "vcpuNum": 4
   },
   {
    "_defaultOrder": 6,
    "_isFastLaunch": false,
    "category": "General purpose",
    "gpuNum": 0,
    "hideHardwareSpecs": false,
    "memoryGiB": 32,
    "name": "ml.m5.2xlarge",
    "vcpuNum": 8
   },
   {
    "_defaultOrder": 7,
    "_isFastLaunch": false,
    "category": "General purpose",
    "gpuNum": 0,
    "hideHardwareSpecs": false,
    "memoryGiB": 64,
    "name": "ml.m5.4xlarge",
    "vcpuNum": 16
   },
   {
    "_defaultOrder": 8,
    "_isFastLaunch": false,
    "category": "General purpose",
    "gpuNum": 0,
    "hideHardwareSpecs": false,
    "memoryGiB": 128,
    "name": "ml.m5.8xlarge",
    "vcpuNum": 32
   },
   {
    "_defaultOrder": 9,
    "_isFastLaunch": false,
    "category": "General purpose",
    "gpuNum": 0,
    "hideHardwareSpecs": false,
    "memoryGiB": 192,
    "name": "ml.m5.12xlarge",
    "vcpuNum": 48
   },
   {
    "_defaultOrder": 10,
    "_isFastLaunch": false,
    "category": "General purpose",
    "gpuNum": 0,
    "hideHardwareSpecs": false,
    "memoryGiB": 256,
    "name": "ml.m5.16xlarge",
    "vcpuNum": 64
   },
   {
    "_defaultOrder": 11,
    "_isFastLaunch": false,
    "category": "General purpose",
    "gpuNum": 0,
    "hideHardwareSpecs": false,
    "memoryGiB": 384,
    "name": "ml.m5.24xlarge",
    "vcpuNum": 96
   },
   {
    "_defaultOrder": 12,
    "_isFastLaunch": false,
    "category": "General purpose",
    "gpuNum": 0,
    "hideHardwareSpecs": false,
    "memoryGiB": 8,
    "name": "ml.m5d.large",
    "vcpuNum": 2
   },
   {
    "_defaultOrder": 13,
    "_isFastLaunch": false,
    "category": "General purpose",
    "gpuNum": 0,
    "hideHardwareSpecs": false,
    "memoryGiB": 16,
    "name": "ml.m5d.xlarge",
    "vcpuNum": 4
   },
   {
    "_defaultOrder": 14,
    "_isFastLaunch": false,
    "category": "General purpose",
    "gpuNum": 0,
    "hideHardwareSpecs": false,
    "memoryGiB": 32,
    "name": "ml.m5d.2xlarge",
    "vcpuNum": 8
   },
   {
    "_defaultOrder": 15,
    "_isFastLaunch": false,
    "category": "General purpose",
    "gpuNum": 0,
    "hideHardwareSpecs": false,
    "memoryGiB": 64,
    "name": "ml.m5d.4xlarge",
    "vcpuNum": 16
   },
   {
    "_defaultOrder": 16,
    "_isFastLaunch": false,
    "category": "General purpose",
    "gpuNum": 0,
    "hideHardwareSpecs": false,
    "memoryGiB": 128,
    "name": "ml.m5d.8xlarge",
    "vcpuNum": 32
   },
   {
    "_defaultOrder": 17,
    "_isFastLaunch": false,
    "category": "General purpose",
    "gpuNum": 0,
    "hideHardwareSpecs": false,
    "memoryGiB": 192,
    "name": "ml.m5d.12xlarge",
    "vcpuNum": 48
   },
   {
    "_defaultOrder": 18,
    "_isFastLaunch": false,
    "category": "General purpose",
    "gpuNum": 0,
    "hideHardwareSpecs": false,
    "memoryGiB": 256,
    "name": "ml.m5d.16xlarge",
    "vcpuNum": 64
   },
   {
    "_defaultOrder": 19,
    "_isFastLaunch": false,
    "category": "General purpose",
    "gpuNum": 0,
    "hideHardwareSpecs": false,
    "memoryGiB": 384,
    "name": "ml.m5d.24xlarge",
    "vcpuNum": 96
   },
   {
    "_defaultOrder": 20,
    "_isFastLaunch": false,
    "category": "General purpose",
    "gpuNum": 0,
    "hideHardwareSpecs": true,
    "memoryGiB": 0,
    "name": "ml.geospatial.interactive",
    "supportedImageNames": [
     "sagemaker-geospatial-v1-0"
    ],
    "vcpuNum": 0
   },
   {
    "_defaultOrder": 21,
    "_isFastLaunch": true,
    "category": "Compute optimized",
    "gpuNum": 0,
    "hideHardwareSpecs": false,
    "memoryGiB": 4,
    "name": "ml.c5.large",
    "vcpuNum": 2
   },
   {
    "_defaultOrder": 22,
    "_isFastLaunch": false,
    "category": "Compute optimized",
    "gpuNum": 0,
    "hideHardwareSpecs": false,
    "memoryGiB": 8,
    "name": "ml.c5.xlarge",
    "vcpuNum": 4
   },
   {
    "_defaultOrder": 23,
    "_isFastLaunch": false,
    "category": "Compute optimized",
    "gpuNum": 0,
    "hideHardwareSpecs": false,
    "memoryGiB": 16,
    "name": "ml.c5.2xlarge",
    "vcpuNum": 8
   },
   {
    "_defaultOrder": 24,
    "_isFastLaunch": false,
    "category": "Compute optimized",
    "gpuNum": 0,
    "hideHardwareSpecs": false,
    "memoryGiB": 32,
    "name": "ml.c5.4xlarge",
    "vcpuNum": 16
   },
   {
    "_defaultOrder": 25,
    "_isFastLaunch": false,
    "category": "Compute optimized",
    "gpuNum": 0,
    "hideHardwareSpecs": false,
    "memoryGiB": 72,
    "name": "ml.c5.9xlarge",
    "vcpuNum": 36
   },
   {
    "_defaultOrder": 26,
    "_isFastLaunch": false,
    "category": "Compute optimized",
    "gpuNum": 0,
    "hideHardwareSpecs": false,
    "memoryGiB": 96,
    "name": "ml.c5.12xlarge",
    "vcpuNum": 48
   },
   {
    "_defaultOrder": 27,
    "_isFastLaunch": false,
    "category": "Compute optimized",
    "gpuNum": 0,
    "hideHardwareSpecs": false,
    "memoryGiB": 144,
    "name": "ml.c5.18xlarge",
    "vcpuNum": 72
   },
   {
    "_defaultOrder": 28,
    "_isFastLaunch": false,
    "category": "Compute optimized",
    "gpuNum": 0,
    "hideHardwareSpecs": false,
    "memoryGiB": 192,
    "name": "ml.c5.24xlarge",
    "vcpuNum": 96
   },
   {
    "_defaultOrder": 29,
    "_isFastLaunch": true,
    "category": "Accelerated computing",
    "gpuNum": 1,
    "hideHardwareSpecs": false,
    "memoryGiB": 16,
    "name": "ml.g4dn.xlarge",
    "vcpuNum": 4
   },
   {
    "_defaultOrder": 30,
    "_isFastLaunch": false,
    "category": "Accelerated computing",
    "gpuNum": 1,
    "hideHardwareSpecs": false,
    "memoryGiB": 32,
    "name": "ml.g4dn.2xlarge",
    "vcpuNum": 8
   },
   {
    "_defaultOrder": 31,
    "_isFastLaunch": false,
    "category": "Accelerated computing",
    "gpuNum": 1,
    "hideHardwareSpecs": false,
    "memoryGiB": 64,
    "name": "ml.g4dn.4xlarge",
    "vcpuNum": 16
   },
   {
    "_defaultOrder": 32,
    "_isFastLaunch": false,
    "category": "Accelerated computing",
    "gpuNum": 1,
    "hideHardwareSpecs": false,
    "memoryGiB": 128,
    "name": "ml.g4dn.8xlarge",
    "vcpuNum": 32
   },
   {
    "_defaultOrder": 33,
    "_isFastLaunch": false,
    "category": "Accelerated computing",
    "gpuNum": 4,
    "hideHardwareSpecs": false,
    "memoryGiB": 192,
    "name": "ml.g4dn.12xlarge",
    "vcpuNum": 48
   },
   {
    "_defaultOrder": 34,
    "_isFastLaunch": false,
    "category": "Accelerated computing",
    "gpuNum": 1,
    "hideHardwareSpecs": false,
    "memoryGiB": 256,
    "name": "ml.g4dn.16xlarge",
    "vcpuNum": 64
   },
   {
    "_defaultOrder": 35,
    "_isFastLaunch": false,
    "category": "Accelerated computing",
    "gpuNum": 1,
    "hideHardwareSpecs": false,
    "memoryGiB": 61,
    "name": "ml.p3.2xlarge",
    "vcpuNum": 8
   },
   {
    "_defaultOrder": 36,
    "_isFastLaunch": false,
    "category": "Accelerated computing",
    "gpuNum": 4,
    "hideHardwareSpecs": false,
    "memoryGiB": 244,
    "name": "ml.p3.8xlarge",
    "vcpuNum": 32
   },
   {
    "_defaultOrder": 37,
    "_isFastLaunch": false,
    "category": "Accelerated computing",
    "gpuNum": 8,
    "hideHardwareSpecs": false,
    "memoryGiB": 488,
    "name": "ml.p3.16xlarge",
    "vcpuNum": 64
   },
   {
    "_defaultOrder": 38,
    "_isFastLaunch": false,
    "category": "Accelerated computing",
    "gpuNum": 8,
    "hideHardwareSpecs": false,
    "memoryGiB": 768,
    "name": "ml.p3dn.24xlarge",
    "vcpuNum": 96
   },
   {
    "_defaultOrder": 39,
    "_isFastLaunch": false,
    "category": "Memory Optimized",
    "gpuNum": 0,
    "hideHardwareSpecs": false,
    "memoryGiB": 16,
    "name": "ml.r5.large",
    "vcpuNum": 2
   },
   {
    "_defaultOrder": 40,
    "_isFastLaunch": false,
    "category": "Memory Optimized",
    "gpuNum": 0,
    "hideHardwareSpecs": false,
    "memoryGiB": 32,
    "name": "ml.r5.xlarge",
    "vcpuNum": 4
   },
   {
    "_defaultOrder": 41,
    "_isFastLaunch": false,
    "category": "Memory Optimized",
    "gpuNum": 0,
    "hideHardwareSpecs": false,
    "memoryGiB": 64,
    "name": "ml.r5.2xlarge",
    "vcpuNum": 8
   },
   {
    "_defaultOrder": 42,
    "_isFastLaunch": false,
    "category": "Memory Optimized",
    "gpuNum": 0,
    "hideHardwareSpecs": false,
    "memoryGiB": 128,
    "name": "ml.r5.4xlarge",
    "vcpuNum": 16
   },
   {
    "_defaultOrder": 43,
    "_isFastLaunch": false,
    "category": "Memory Optimized",
    "gpuNum": 0,
    "hideHardwareSpecs": false,
    "memoryGiB": 256,
    "name": "ml.r5.8xlarge",
    "vcpuNum": 32
   },
   {
    "_defaultOrder": 44,
    "_isFastLaunch": false,
    "category": "Memory Optimized",
    "gpuNum": 0,
    "hideHardwareSpecs": false,
    "memoryGiB": 384,
    "name": "ml.r5.12xlarge",
    "vcpuNum": 48
   },
   {
    "_defaultOrder": 45,
    "_isFastLaunch": false,
    "category": "Memory Optimized",
    "gpuNum": 0,
    "hideHardwareSpecs": false,
    "memoryGiB": 512,
    "name": "ml.r5.16xlarge",
    "vcpuNum": 64
   },
   {
    "_defaultOrder": 46,
    "_isFastLaunch": false,
    "category": "Memory Optimized",
    "gpuNum": 0,
    "hideHardwareSpecs": false,
    "memoryGiB": 768,
    "name": "ml.r5.24xlarge",
    "vcpuNum": 96
   },
   {
    "_defaultOrder": 47,
    "_isFastLaunch": false,
    "category": "Accelerated computing",
    "gpuNum": 1,
    "hideHardwareSpecs": false,
    "memoryGiB": 16,
    "name": "ml.g5.xlarge",
    "vcpuNum": 4
   },
   {
    "_defaultOrder": 48,
    "_isFastLaunch": false,
    "category": "Accelerated computing",
    "gpuNum": 1,
    "hideHardwareSpecs": false,
    "memoryGiB": 32,
    "name": "ml.g5.2xlarge",
    "vcpuNum": 8
   },
   {
    "_defaultOrder": 49,
    "_isFastLaunch": false,
    "category": "Accelerated computing",
    "gpuNum": 1,
    "hideHardwareSpecs": false,
    "memoryGiB": 64,
    "name": "ml.g5.4xlarge",
    "vcpuNum": 16
   },
   {
    "_defaultOrder": 50,
    "_isFastLaunch": false,
    "category": "Accelerated computing",
    "gpuNum": 1,
    "hideHardwareSpecs": false,
    "memoryGiB": 128,
    "name": "ml.g5.8xlarge",
    "vcpuNum": 32
   },
   {
    "_defaultOrder": 51,
    "_isFastLaunch": false,
    "category": "Accelerated computing",
    "gpuNum": 1,
    "hideHardwareSpecs": false,
    "memoryGiB": 256,
    "name": "ml.g5.16xlarge",
    "vcpuNum": 64
   },
   {
    "_defaultOrder": 52,
    "_isFastLaunch": false,
    "category": "Accelerated computing",
    "gpuNum": 4,
    "hideHardwareSpecs": false,
    "memoryGiB": 192,
    "name": "ml.g5.12xlarge",
    "vcpuNum": 48
   },
   {
    "_defaultOrder": 53,
    "_isFastLaunch": false,
    "category": "Accelerated computing",
    "gpuNum": 4,
    "hideHardwareSpecs": false,
    "memoryGiB": 384,
    "name": "ml.g5.24xlarge",
    "vcpuNum": 96
   },
   {
    "_defaultOrder": 54,
    "_isFastLaunch": false,
    "category": "Accelerated computing",
    "gpuNum": 8,
    "hideHardwareSpecs": false,
    "memoryGiB": 768,
    "name": "ml.g5.48xlarge",
    "vcpuNum": 192
   },
   {
    "_defaultOrder": 55,
    "_isFastLaunch": false,
    "category": "Accelerated computing",
    "gpuNum": 8,
    "hideHardwareSpecs": false,
    "memoryGiB": 1152,
    "name": "ml.p4d.24xlarge",
    "vcpuNum": 96
   },
   {
    "_defaultOrder": 56,
    "_isFastLaunch": false,
    "category": "Accelerated computing",
    "gpuNum": 8,
    "hideHardwareSpecs": false,
    "memoryGiB": 1152,
    "name": "ml.p4de.24xlarge",
    "vcpuNum": 96
   },
   {
    "_defaultOrder": 57,
    "_isFastLaunch": false,
    "category": "Accelerated computing",
    "gpuNum": 0,
    "hideHardwareSpecs": false,
    "memoryGiB": 32,
    "name": "ml.trn1.2xlarge",
    "vcpuNum": 8
   },
   {
    "_defaultOrder": 58,
    "_isFastLaunch": false,
    "category": "Accelerated computing",
    "gpuNum": 0,
    "hideHardwareSpecs": false,
    "memoryGiB": 512,
    "name": "ml.trn1.32xlarge",
    "vcpuNum": 128
   },
   {
    "_defaultOrder": 59,
    "_isFastLaunch": false,
    "category": "Accelerated computing",
    "gpuNum": 0,
    "hideHardwareSpecs": false,
    "memoryGiB": 512,
    "name": "ml.trn1n.32xlarge",
    "vcpuNum": 128
   }
  ],
  "instance_type": "ml.t3.medium",
  "kernelspec": {
   "display_name": "Python 3 (Data Science 3.0)",
   "language": "python",
   "name": "python3__SAGEMAKER_INTERNAL__arn:aws:sagemaker:us-east-1:081325390199:image/sagemaker-data-science-310-v1"
  },
  "language_info": {
   "codemirror_mode": {
    "name": "ipython",
    "version": 3
   },
   "file_extension": ".py",
   "mimetype": "text/x-python",
   "name": "python",
   "nbconvert_exporter": "python",
   "pygments_lexer": "ipython3",
   "version": "3.10.6"
  }
 },
 "nbformat": 4,
 "nbformat_minor": 5
}
